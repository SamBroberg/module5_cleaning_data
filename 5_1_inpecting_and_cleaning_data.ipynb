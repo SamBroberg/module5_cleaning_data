{
 "cells": [
  {
   "cell_type": "markdown",
   "metadata": {
    "slideshow": {
     "slide_type": "slide"
    }
   },
   "source": [
    "# Getting to know your data"
   ]
  },
  {
   "cell_type": "markdown",
   "metadata": {
    "slideshow": {
     "slide_type": "slide"
    }
   },
   "source": [
    "## Data Cleaning Checklist\n",
    "\n",
    "1. Deal with column names\n",
    "2. Deal with text columns\n",
    "3. Deal with numeric columns\n",
    "4. Deal with dates\n",
    "5. Look at relationships between columns"
   ]
  },
  {
   "cell_type": "markdown",
   "metadata": {
    "slideshow": {
     "slide_type": "slide"
    }
   },
   "source": [
    "## Data Cleaning Step 1 - Dealing with column names\n",
    "\n",
    "#### Necessary Steps\n",
    "\n",
    "* Carefully inspect the names \n",
    "* Strip whitespace\n",
    "* Replace spaces with `_`\n",
    "* Remove other offending characters\n",
    "    * Punctuation\n",
    "    * Latin symbols like å\n",
    "* Make sure column names are unique\n",
    "* Inspect the column type.  Anything unexpected?\n",
    "* **Advanced** Is there measurement data in the labels?  If so, you need to reshape"
   ]
  },
  {
   "cell_type": "markdown",
   "metadata": {
    "slideshow": {
     "slide_type": "slide"
    }
   },
   "source": [
    "#### Optional Steps\n",
    "\n",
    "* Make all lowercase \n",
    "* Add prefix \n",
    "    * if combining with another table \n",
    "* Look for other ways to make them meaningful but short"
   ]
  },
  {
   "cell_type": "markdown",
   "metadata": {
    "slideshow": {
     "slide_type": "slide"
    }
   },
   "source": [
    "## Data Cleaning Step 2 - Dealing with a numeric column\n",
    "\n",
    "#### Necessary steps\n",
    "\n",
    "* Inspect numeric summaries.  Do they make sense?\n",
    "* Plot a histogram.  Anything unusual?\n",
    "* Look at the min/max values.  Are they reasonable?\n",
    "* Think about practical bounds\n",
    "    * 0 <= percent <= 100\n",
    "    * 0 <= fraction <= 1\n",
    "    * Height > 0\n",
    "* How are missing values represented?  Is if consistent?\n",
    "    * Watch out for `0` in place of missing.\n",
    "    "
   ]
  },
  {
   "cell_type": "markdown",
   "metadata": {
    "slideshow": {
     "slide_type": "slide"
    }
   },
   "source": [
    "#### Optional steps\n",
    "\n",
    "* Apply a log/sqrt transform to skewed data\n",
    "* Remove outliers?\n",
    "* Impute missing values?"
   ]
  },
  {
   "cell_type": "markdown",
   "metadata": {
    "slideshow": {
     "slide_type": "slide"
    }
   },
   "source": [
    "## Data Cleaning Step 3 - Dealing with a text column\n",
    "\n",
    "#### Necessary steps\n",
    "\n",
    "* Inspect a list of unique labels and their counts\n",
    "    * Look at the most common and fix common errors\n",
    "    * Look at the least common, odd cases hide here\n",
    "* Plot the frequency distribution.  Anything unusual?\n",
    "* How are missing data represented?  Is it consistent?\n",
    "    * Switch to `np.NaN` (Pandas), `None` (pure Python), `null` (Spark SQL)\n",
    "* Look for and fix similarities in the labels\n",
    "    * i.e. \"Todd\" vs. \"todd\""
   ]
  },
  {
   "cell_type": "markdown",
   "metadata": {
    "slideshow": {
     "slide_type": "slide"
    }
   },
   "source": [
    "#### Optional steps\n",
    "\n",
    "* Consider switching to lowercase\n",
    "* Consider adding a `\"Other\"` category for rare labels\n",
    "* Consider recoding into broader categories"
   ]
  },
  {
   "cell_type": "markdown",
   "metadata": {},
   "source": [
    "## Data Cleaning Step 4 - Dealing with a date column\n",
    "\n",
    "#### Necessary steps\n",
    "\n",
    "* Is the formating consistent?\n",
    "* Correct conversion?\n",
    "    * Two digit year?  How is this converted?\n",
    "* Make columns for various date-parts\n",
    "    * year\n",
    "    * month\n",
    "    * day\n",
    "    * etc.\n",
    "* Make plots of the date-parts and look for unusual values"
   ]
  },
  {
   "cell_type": "markdown",
   "metadata": {},
   "source": [
    "## Data Cleaning Step 5 - Inspect relationship between columns\n",
    "\n",
    "#### Necessary steps\n",
    "\n",
    "* Compute cross-tabulated summary methods\n",
    "    * **Text + Numeric** Group-by mean/median/SD/IQR\n",
    "    * **Text + Text** Group-by counts/percents\n",
    "* Plot the relationship\n",
    "    * **Text + Numeric** side-by-side box plot\n",
    "    * **Text + Text** mosiac plot\n",
    "    * **Numeric + Numeric** scatter plot\n",
    "* Look for unusual values.\n",
    "    * i.e. `0` as missing often shows up in scatterplots"
   ]
  },
  {
   "cell_type": "markdown",
   "metadata": {
    "slideshow": {
     "slide_type": "slide"
    }
   },
   "source": [
    "## Basic inspection tools\n",
    "\n",
    "* `df.head()`        first five rows\n",
    "* `df.tail()`        last five rows\n",
    "* `df.sample(5)`     random sample of rows\n",
    "* `df.shape`         number of rows/columns in a tuple\n",
    "* `df.describe()`    calculates measures of central tendency\n",
    "* `df.info()`"
   ]
  },
  {
   "cell_type": "markdown",
   "metadata": {
    "slideshow": {
     "slide_type": "slide"
    }
   },
   "source": [
    "## <font color=\"red\"> Exercise 1: Load and inspect the artwork from MoMA </font>\n",
    "\n",
    "Make sure you can load both the csv and json files\n",
    "\n",
    "[Data source](https://github.com/MuseumofModernArt/collection)"
   ]
  },
  {
   "cell_type": "code",
   "execution_count": 1,
   "metadata": {
    "slideshow": {
     "slide_type": "slide"
    }
   },
   "outputs": [
    {
     "data": {
      "text/html": [
       "<div>\n",
       "<style scoped>\n",
       "    .dataframe tbody tr th:only-of-type {\n",
       "        vertical-align: middle;\n",
       "    }\n",
       "\n",
       "    .dataframe tbody tr th {\n",
       "        vertical-align: top;\n",
       "    }\n",
       "\n",
       "    .dataframe thead th {\n",
       "        text-align: right;\n",
       "    }\n",
       "</style>\n",
       "<table border=\"1\" class=\"dataframe\">\n",
       "  <thead>\n",
       "    <tr style=\"text-align: right;\">\n",
       "      <th></th>\n",
       "      <th>Title</th>\n",
       "      <th>Artist</th>\n",
       "      <th>ConstituentID</th>\n",
       "      <th>ArtistBio</th>\n",
       "      <th>Nationality</th>\n",
       "      <th>BeginDate</th>\n",
       "      <th>EndDate</th>\n",
       "      <th>Gender</th>\n",
       "      <th>Date</th>\n",
       "      <th>Medium</th>\n",
       "      <th>...</th>\n",
       "      <th>ThumbnailURL</th>\n",
       "      <th>Circumference (cm)</th>\n",
       "      <th>Depth (cm)</th>\n",
       "      <th>Diameter (cm)</th>\n",
       "      <th>Height (cm)</th>\n",
       "      <th>Length (cm)</th>\n",
       "      <th>Weight (kg)</th>\n",
       "      <th>Width (cm)</th>\n",
       "      <th>Seat Height (cm)</th>\n",
       "      <th>Duration (sec.)</th>\n",
       "    </tr>\n",
       "  </thead>\n",
       "  <tbody>\n",
       "    <tr>\n",
       "      <th>0</th>\n",
       "      <td>Ferdinandsbrücke Project, Vienna, Austria (Ele...</td>\n",
       "      <td>Otto Wagner</td>\n",
       "      <td>6210</td>\n",
       "      <td>(Austrian, 1841–1918)</td>\n",
       "      <td>(Austrian)</td>\n",
       "      <td>(1841)</td>\n",
       "      <td>(1918)</td>\n",
       "      <td>(Male)</td>\n",
       "      <td>1896</td>\n",
       "      <td>Ink and cut-and-pasted painted pages on paper</td>\n",
       "      <td>...</td>\n",
       "      <td>http://www.moma.org/media/W1siZiIsIjU5NDA1Il0s...</td>\n",
       "      <td>NaN</td>\n",
       "      <td>NaN</td>\n",
       "      <td>NaN</td>\n",
       "      <td>48.6000</td>\n",
       "      <td>NaN</td>\n",
       "      <td>NaN</td>\n",
       "      <td>168.9000</td>\n",
       "      <td>NaN</td>\n",
       "      <td>NaN</td>\n",
       "    </tr>\n",
       "    <tr>\n",
       "      <th>1</th>\n",
       "      <td>City of Music, National Superior Conservatory ...</td>\n",
       "      <td>Christian de Portzamparc</td>\n",
       "      <td>7470</td>\n",
       "      <td>(French, born 1944)</td>\n",
       "      <td>(French)</td>\n",
       "      <td>(1944)</td>\n",
       "      <td>(0)</td>\n",
       "      <td>(Male)</td>\n",
       "      <td>1987</td>\n",
       "      <td>Paint and colored pencil on print</td>\n",
       "      <td>...</td>\n",
       "      <td>http://www.moma.org/media/W1siZiIsIjk3Il0sWyJw...</td>\n",
       "      <td>NaN</td>\n",
       "      <td>NaN</td>\n",
       "      <td>NaN</td>\n",
       "      <td>40.6401</td>\n",
       "      <td>NaN</td>\n",
       "      <td>NaN</td>\n",
       "      <td>29.8451</td>\n",
       "      <td>NaN</td>\n",
       "      <td>NaN</td>\n",
       "    </tr>\n",
       "    <tr>\n",
       "      <th>2</th>\n",
       "      <td>Villa near Vienna Project, Outside Vienna, Aus...</td>\n",
       "      <td>Emil Hoppe</td>\n",
       "      <td>7605</td>\n",
       "      <td>(Austrian, 1876–1957)</td>\n",
       "      <td>(Austrian)</td>\n",
       "      <td>(1876)</td>\n",
       "      <td>(1957)</td>\n",
       "      <td>(Male)</td>\n",
       "      <td>1903</td>\n",
       "      <td>Graphite, pen, color pencil, ink, and gouache ...</td>\n",
       "      <td>...</td>\n",
       "      <td>http://www.moma.org/media/W1siZiIsIjk4Il0sWyJw...</td>\n",
       "      <td>NaN</td>\n",
       "      <td>NaN</td>\n",
       "      <td>NaN</td>\n",
       "      <td>34.3000</td>\n",
       "      <td>NaN</td>\n",
       "      <td>NaN</td>\n",
       "      <td>31.8000</td>\n",
       "      <td>NaN</td>\n",
       "      <td>NaN</td>\n",
       "    </tr>\n",
       "    <tr>\n",
       "      <th>3</th>\n",
       "      <td>The Manhattan Transcripts Project, New York, N...</td>\n",
       "      <td>Bernard Tschumi</td>\n",
       "      <td>7056</td>\n",
       "      <td>(French and Swiss, born Switzerland 1944)</td>\n",
       "      <td>()</td>\n",
       "      <td>(1944)</td>\n",
       "      <td>(0)</td>\n",
       "      <td>(Male)</td>\n",
       "      <td>1980</td>\n",
       "      <td>Photographic reproduction with colored synthet...</td>\n",
       "      <td>...</td>\n",
       "      <td>http://www.moma.org/media/W1siZiIsIjEyNCJdLFsi...</td>\n",
       "      <td>NaN</td>\n",
       "      <td>NaN</td>\n",
       "      <td>NaN</td>\n",
       "      <td>50.8000</td>\n",
       "      <td>NaN</td>\n",
       "      <td>NaN</td>\n",
       "      <td>50.8000</td>\n",
       "      <td>NaN</td>\n",
       "      <td>NaN</td>\n",
       "    </tr>\n",
       "    <tr>\n",
       "      <th>4</th>\n",
       "      <td>Villa, project, outside Vienna, Austria, Exter...</td>\n",
       "      <td>Emil Hoppe</td>\n",
       "      <td>7605</td>\n",
       "      <td>(Austrian, 1876–1957)</td>\n",
       "      <td>(Austrian)</td>\n",
       "      <td>(1876)</td>\n",
       "      <td>(1957)</td>\n",
       "      <td>(Male)</td>\n",
       "      <td>1903</td>\n",
       "      <td>Graphite, color pencil, ink, and gouache on tr...</td>\n",
       "      <td>...</td>\n",
       "      <td>http://www.moma.org/media/W1siZiIsIjEyNiJdLFsi...</td>\n",
       "      <td>NaN</td>\n",
       "      <td>NaN</td>\n",
       "      <td>NaN</td>\n",
       "      <td>38.4000</td>\n",
       "      <td>NaN</td>\n",
       "      <td>NaN</td>\n",
       "      <td>19.1000</td>\n",
       "      <td>NaN</td>\n",
       "      <td>NaN</td>\n",
       "    </tr>\n",
       "  </tbody>\n",
       "</table>\n",
       "<p>5 rows × 29 columns</p>\n",
       "</div>"
      ],
      "text/plain": [
       "                                               Title  \\\n",
       "0  Ferdinandsbrücke Project, Vienna, Austria (Ele...   \n",
       "1  City of Music, National Superior Conservatory ...   \n",
       "2  Villa near Vienna Project, Outside Vienna, Aus...   \n",
       "3  The Manhattan Transcripts Project, New York, N...   \n",
       "4  Villa, project, outside Vienna, Austria, Exter...   \n",
       "\n",
       "                     Artist ConstituentID  \\\n",
       "0               Otto Wagner          6210   \n",
       "1  Christian de Portzamparc          7470   \n",
       "2                Emil Hoppe          7605   \n",
       "3           Bernard Tschumi          7056   \n",
       "4                Emil Hoppe          7605   \n",
       "\n",
       "                                   ArtistBio Nationality BeginDate EndDate  \\\n",
       "0                      (Austrian, 1841–1918)  (Austrian)    (1841)  (1918)   \n",
       "1                        (French, born 1944)    (French)    (1944)     (0)   \n",
       "2                      (Austrian, 1876–1957)  (Austrian)    (1876)  (1957)   \n",
       "3  (French and Swiss, born Switzerland 1944)          ()    (1944)     (0)   \n",
       "4                      (Austrian, 1876–1957)  (Austrian)    (1876)  (1957)   \n",
       "\n",
       "   Gender  Date                                             Medium  ...  \\\n",
       "0  (Male)  1896      Ink and cut-and-pasted painted pages on paper  ...   \n",
       "1  (Male)  1987                  Paint and colored pencil on print  ...   \n",
       "2  (Male)  1903  Graphite, pen, color pencil, ink, and gouache ...  ...   \n",
       "3  (Male)  1980  Photographic reproduction with colored synthet...  ...   \n",
       "4  (Male)  1903  Graphite, color pencil, ink, and gouache on tr...  ...   \n",
       "\n",
       "                                        ThumbnailURL Circumference (cm)  \\\n",
       "0  http://www.moma.org/media/W1siZiIsIjU5NDA1Il0s...                NaN   \n",
       "1  http://www.moma.org/media/W1siZiIsIjk3Il0sWyJw...                NaN   \n",
       "2  http://www.moma.org/media/W1siZiIsIjk4Il0sWyJw...                NaN   \n",
       "3  http://www.moma.org/media/W1siZiIsIjEyNCJdLFsi...                NaN   \n",
       "4  http://www.moma.org/media/W1siZiIsIjEyNiJdLFsi...                NaN   \n",
       "\n",
       "  Depth (cm) Diameter (cm) Height (cm) Length (cm) Weight (kg)  Width (cm)  \\\n",
       "0        NaN           NaN     48.6000         NaN         NaN    168.9000   \n",
       "1        NaN           NaN     40.6401         NaN         NaN     29.8451   \n",
       "2        NaN           NaN     34.3000         NaN         NaN     31.8000   \n",
       "3        NaN           NaN     50.8000         NaN         NaN     50.8000   \n",
       "4        NaN           NaN     38.4000         NaN         NaN     19.1000   \n",
       "\n",
       "  Seat Height (cm) Duration (sec.)  \n",
       "0              NaN             NaN  \n",
       "1              NaN             NaN  \n",
       "2              NaN             NaN  \n",
       "3              NaN             NaN  \n",
       "4              NaN             NaN  \n",
       "\n",
       "[5 rows x 29 columns]"
      ]
     },
     "execution_count": 1,
     "metadata": {},
     "output_type": "execute_result"
    }
   ],
   "source": [
    "import pandas as pd\n",
    "from dfply import *\n",
    "artwork = pd.read_csv(\"./data/Artworks.csv\")\n",
    "artwork.head()"
   ]
  },
  {
   "cell_type": "code",
   "execution_count": 2,
   "metadata": {
    "slideshow": {
     "slide_type": "slide"
    }
   },
   "outputs": [
    {
     "data": {
      "text/html": [
       "<div>\n",
       "<style scoped>\n",
       "    .dataframe tbody tr th:only-of-type {\n",
       "        vertical-align: middle;\n",
       "    }\n",
       "\n",
       "    .dataframe tbody tr th {\n",
       "        vertical-align: top;\n",
       "    }\n",
       "\n",
       "    .dataframe thead th {\n",
       "        text-align: right;\n",
       "    }\n",
       "</style>\n",
       "<table border=\"1\" class=\"dataframe\">\n",
       "  <thead>\n",
       "    <tr style=\"text-align: right;\">\n",
       "      <th></th>\n",
       "      <th>Title</th>\n",
       "      <th>Artist</th>\n",
       "      <th>ConstituentID</th>\n",
       "      <th>ArtistBio</th>\n",
       "      <th>Nationality</th>\n",
       "      <th>BeginDate</th>\n",
       "      <th>EndDate</th>\n",
       "      <th>Gender</th>\n",
       "      <th>Date</th>\n",
       "      <th>Medium</th>\n",
       "      <th>...</th>\n",
       "      <th>ThumbnailURL</th>\n",
       "      <th>Circumference (cm)</th>\n",
       "      <th>Depth (cm)</th>\n",
       "      <th>Diameter (cm)</th>\n",
       "      <th>Height (cm)</th>\n",
       "      <th>Length (cm)</th>\n",
       "      <th>Weight (kg)</th>\n",
       "      <th>Width (cm)</th>\n",
       "      <th>Seat Height (cm)</th>\n",
       "      <th>Duration (sec.)</th>\n",
       "    </tr>\n",
       "  </thead>\n",
       "  <tbody>\n",
       "    <tr>\n",
       "      <th>138146</th>\n",
       "      <td>Untitled</td>\n",
       "      <td>Chesnutt Brothers Studio, Andrew Chesnutt, Lew...</td>\n",
       "      <td>133005, 133006, 133007</td>\n",
       "      <td>(American, 1861–1934) (American, 1860–1933)</td>\n",
       "      <td>() (American) (American)</td>\n",
       "      <td>(0) (1861) (1860)</td>\n",
       "      <td>(0) (1934) (1933)</td>\n",
       "      <td>() (Male) (Male)</td>\n",
       "      <td>c. 1890</td>\n",
       "      <td>Gelatin silver print</td>\n",
       "      <td>...</td>\n",
       "      <td>http://www.moma.org/media/W1siZiIsIjQ5MjcyMiJd...</td>\n",
       "      <td>NaN</td>\n",
       "      <td>NaN</td>\n",
       "      <td>NaN</td>\n",
       "      <td>10.795022</td>\n",
       "      <td>NaN</td>\n",
       "      <td>NaN</td>\n",
       "      <td>16.510033</td>\n",
       "      <td>NaN</td>\n",
       "      <td>NaN</td>\n",
       "    </tr>\n",
       "    <tr>\n",
       "      <th>138147</th>\n",
       "      <td>Plate (folio 2 verso) from Muscheln und schirm...</td>\n",
       "      <td>Sophie Taeuber-Arp</td>\n",
       "      <td>5777</td>\n",
       "      <td>(Swiss, 1889–1943)</td>\n",
       "      <td>(Swiss)</td>\n",
       "      <td>(1889)</td>\n",
       "      <td>(1943)</td>\n",
       "      <td>(Female)</td>\n",
       "      <td>1939</td>\n",
       "      <td>One from an illustrated book with four line bl...</td>\n",
       "      <td>...</td>\n",
       "      <td>http://www.moma.org/media/W1siZiIsIjQ4NTExNSJd...</td>\n",
       "      <td>NaN</td>\n",
       "      <td>NaN</td>\n",
       "      <td>NaN</td>\n",
       "      <td>13.500000</td>\n",
       "      <td>NaN</td>\n",
       "      <td>NaN</td>\n",
       "      <td>10.000000</td>\n",
       "      <td>NaN</td>\n",
       "      <td>NaN</td>\n",
       "    </tr>\n",
       "    <tr>\n",
       "      <th>138148</th>\n",
       "      <td>Plate (folio 6) from Muscheln und schirme (She...</td>\n",
       "      <td>Sophie Taeuber-Arp</td>\n",
       "      <td>5777</td>\n",
       "      <td>(Swiss, 1889–1943)</td>\n",
       "      <td>(Swiss)</td>\n",
       "      <td>(1889)</td>\n",
       "      <td>(1943)</td>\n",
       "      <td>(Female)</td>\n",
       "      <td>1939</td>\n",
       "      <td>One from an illustrated book with four line bl...</td>\n",
       "      <td>...</td>\n",
       "      <td>http://www.moma.org/media/W1siZiIsIjQ4NTExOCJd...</td>\n",
       "      <td>NaN</td>\n",
       "      <td>NaN</td>\n",
       "      <td>NaN</td>\n",
       "      <td>13.500000</td>\n",
       "      <td>NaN</td>\n",
       "      <td>NaN</td>\n",
       "      <td>10.000000</td>\n",
       "      <td>NaN</td>\n",
       "      <td>NaN</td>\n",
       "    </tr>\n",
       "    <tr>\n",
       "      <th>138149</th>\n",
       "      <td>Plate (folio 12) from Muscheln und schirme (Sh...</td>\n",
       "      <td>Sophie Taeuber-Arp</td>\n",
       "      <td>5777</td>\n",
       "      <td>(Swiss, 1889–1943)</td>\n",
       "      <td>(Swiss)</td>\n",
       "      <td>(1889)</td>\n",
       "      <td>(1943)</td>\n",
       "      <td>(Female)</td>\n",
       "      <td>1939</td>\n",
       "      <td>One from an illustrated book with four line bl...</td>\n",
       "      <td>...</td>\n",
       "      <td>http://www.moma.org/media/W1siZiIsIjQ4NTEyMCJd...</td>\n",
       "      <td>NaN</td>\n",
       "      <td>NaN</td>\n",
       "      <td>NaN</td>\n",
       "      <td>11.000000</td>\n",
       "      <td>NaN</td>\n",
       "      <td>NaN</td>\n",
       "      <td>10.000000</td>\n",
       "      <td>NaN</td>\n",
       "      <td>NaN</td>\n",
       "    </tr>\n",
       "    <tr>\n",
       "      <th>138150</th>\n",
       "      <td>Plate (folio 16) from Muscheln und schirme (Sh...</td>\n",
       "      <td>Sophie Taeuber-Arp</td>\n",
       "      <td>5777</td>\n",
       "      <td>(Swiss, 1889–1943)</td>\n",
       "      <td>(Swiss)</td>\n",
       "      <td>(1889)</td>\n",
       "      <td>(1943)</td>\n",
       "      <td>(Female)</td>\n",
       "      <td>1939</td>\n",
       "      <td>One from an illustrated book with four line bl...</td>\n",
       "      <td>...</td>\n",
       "      <td>http://www.moma.org/media/W1siZiIsIjQ4NTEyMSJd...</td>\n",
       "      <td>NaN</td>\n",
       "      <td>NaN</td>\n",
       "      <td>NaN</td>\n",
       "      <td>13.500000</td>\n",
       "      <td>NaN</td>\n",
       "      <td>NaN</td>\n",
       "      <td>10.000000</td>\n",
       "      <td>NaN</td>\n",
       "      <td>NaN</td>\n",
       "    </tr>\n",
       "  </tbody>\n",
       "</table>\n",
       "<p>5 rows × 29 columns</p>\n",
       "</div>"
      ],
      "text/plain": [
       "                                                    Title  \\\n",
       "138146                                           Untitled   \n",
       "138147  Plate (folio 2 verso) from Muscheln und schirm...   \n",
       "138148  Plate (folio 6) from Muscheln und schirme (She...   \n",
       "138149  Plate (folio 12) from Muscheln und schirme (Sh...   \n",
       "138150  Plate (folio 16) from Muscheln und schirme (Sh...   \n",
       "\n",
       "                                                   Artist  \\\n",
       "138146  Chesnutt Brothers Studio, Andrew Chesnutt, Lew...   \n",
       "138147                                 Sophie Taeuber-Arp   \n",
       "138148                                 Sophie Taeuber-Arp   \n",
       "138149                                 Sophie Taeuber-Arp   \n",
       "138150                                 Sophie Taeuber-Arp   \n",
       "\n",
       "                 ConstituentID                                    ArtistBio  \\\n",
       "138146  133005, 133006, 133007  (American, 1861–1934) (American, 1860–1933)   \n",
       "138147                    5777                           (Swiss, 1889–1943)   \n",
       "138148                    5777                           (Swiss, 1889–1943)   \n",
       "138149                    5777                           (Swiss, 1889–1943)   \n",
       "138150                    5777                           (Swiss, 1889–1943)   \n",
       "\n",
       "                     Nationality          BeginDate            EndDate  \\\n",
       "138146  () (American) (American)  (0) (1861) (1860)  (0) (1934) (1933)   \n",
       "138147                   (Swiss)             (1889)             (1943)   \n",
       "138148                   (Swiss)             (1889)             (1943)   \n",
       "138149                   (Swiss)             (1889)             (1943)   \n",
       "138150                   (Swiss)             (1889)             (1943)   \n",
       "\n",
       "                  Gender     Date  \\\n",
       "138146  () (Male) (Male)  c. 1890   \n",
       "138147          (Female)     1939   \n",
       "138148          (Female)     1939   \n",
       "138149          (Female)     1939   \n",
       "138150          (Female)     1939   \n",
       "\n",
       "                                                   Medium  ...  \\\n",
       "138146                               Gelatin silver print  ...   \n",
       "138147  One from an illustrated book with four line bl...  ...   \n",
       "138148  One from an illustrated book with four line bl...  ...   \n",
       "138149  One from an illustrated book with four line bl...  ...   \n",
       "138150  One from an illustrated book with four line bl...  ...   \n",
       "\n",
       "                                             ThumbnailURL Circumference (cm)  \\\n",
       "138146  http://www.moma.org/media/W1siZiIsIjQ5MjcyMiJd...                NaN   \n",
       "138147  http://www.moma.org/media/W1siZiIsIjQ4NTExNSJd...                NaN   \n",
       "138148  http://www.moma.org/media/W1siZiIsIjQ4NTExOCJd...                NaN   \n",
       "138149  http://www.moma.org/media/W1siZiIsIjQ4NTEyMCJd...                NaN   \n",
       "138150  http://www.moma.org/media/W1siZiIsIjQ4NTEyMSJd...                NaN   \n",
       "\n",
       "       Depth (cm) Diameter (cm) Height (cm) Length (cm) Weight (kg)  \\\n",
       "138146        NaN           NaN   10.795022         NaN         NaN   \n",
       "138147        NaN           NaN   13.500000         NaN         NaN   \n",
       "138148        NaN           NaN   13.500000         NaN         NaN   \n",
       "138149        NaN           NaN   11.000000         NaN         NaN   \n",
       "138150        NaN           NaN   13.500000         NaN         NaN   \n",
       "\n",
       "        Width (cm) Seat Height (cm) Duration (sec.)  \n",
       "138146   16.510033              NaN             NaN  \n",
       "138147   10.000000              NaN             NaN  \n",
       "138148   10.000000              NaN             NaN  \n",
       "138149   10.000000              NaN             NaN  \n",
       "138150   10.000000              NaN             NaN  \n",
       "\n",
       "[5 rows x 29 columns]"
      ]
     },
     "execution_count": 2,
     "metadata": {},
     "output_type": "execute_result"
    }
   ],
   "source": [
    "artwork.tail()"
   ]
  },
  {
   "cell_type": "code",
   "execution_count": 3,
   "metadata": {
    "slideshow": {
     "slide_type": "slide"
    }
   },
   "outputs": [
    {
     "data": {
      "text/plain": [
       "(138151, 29)"
      ]
     },
     "execution_count": 3,
     "metadata": {},
     "output_type": "execute_result"
    }
   ],
   "source": [
    "artwork.shape"
   ]
  },
  {
   "cell_type": "code",
   "execution_count": 4,
   "metadata": {
    "slideshow": {
     "slide_type": "slide"
    }
   },
   "outputs": [
    {
     "data": {
      "text/html": [
       "<div>\n",
       "<style scoped>\n",
       "    .dataframe tbody tr th:only-of-type {\n",
       "        vertical-align: middle;\n",
       "    }\n",
       "\n",
       "    .dataframe tbody tr th {\n",
       "        vertical-align: top;\n",
       "    }\n",
       "\n",
       "    .dataframe thead th {\n",
       "        text-align: right;\n",
       "    }\n",
       "</style>\n",
       "<table border=\"1\" class=\"dataframe\">\n",
       "  <thead>\n",
       "    <tr style=\"text-align: right;\">\n",
       "      <th></th>\n",
       "      <th>ObjectID</th>\n",
       "      <th>Circumference (cm)</th>\n",
       "      <th>Depth (cm)</th>\n",
       "      <th>Diameter (cm)</th>\n",
       "      <th>Height (cm)</th>\n",
       "      <th>Length (cm)</th>\n",
       "      <th>Weight (kg)</th>\n",
       "      <th>Width (cm)</th>\n",
       "      <th>Seat Height (cm)</th>\n",
       "      <th>Duration (sec.)</th>\n",
       "    </tr>\n",
       "  </thead>\n",
       "  <tbody>\n",
       "    <tr>\n",
       "      <th>count</th>\n",
       "      <td>138151.000000</td>\n",
       "      <td>10.000000</td>\n",
       "      <td>13839.000000</td>\n",
       "      <td>1462.000000</td>\n",
       "      <td>120355.000000</td>\n",
       "      <td>742.000000</td>\n",
       "      <td>290.000000</td>\n",
       "      <td>119434.000000</td>\n",
       "      <td>0.0</td>\n",
       "      <td>2.140000e+03</td>\n",
       "    </tr>\n",
       "    <tr>\n",
       "      <th>mean</th>\n",
       "      <td>97170.256618</td>\n",
       "      <td>44.868020</td>\n",
       "      <td>16.353863</td>\n",
       "      <td>23.094845</td>\n",
       "      <td>37.456124</td>\n",
       "      <td>89.687579</td>\n",
       "      <td>1283.674965</td>\n",
       "      <td>37.973398</td>\n",
       "      <td>NaN</td>\n",
       "      <td>6.156488e+03</td>\n",
       "    </tr>\n",
       "    <tr>\n",
       "      <th>std</th>\n",
       "      <td>81950.720570</td>\n",
       "      <td>28.631604</td>\n",
       "      <td>54.495960</td>\n",
       "      <td>44.626483</td>\n",
       "      <td>49.604159</td>\n",
       "      <td>329.428165</td>\n",
       "      <td>12017.504240</td>\n",
       "      <td>67.277097</td>\n",
       "      <td>NaN</td>\n",
       "      <td>1.371250e+05</td>\n",
       "    </tr>\n",
       "    <tr>\n",
       "      <th>min</th>\n",
       "      <td>2.000000</td>\n",
       "      <td>9.900000</td>\n",
       "      <td>0.000000</td>\n",
       "      <td>0.635000</td>\n",
       "      <td>0.000000</td>\n",
       "      <td>0.000000</td>\n",
       "      <td>0.090000</td>\n",
       "      <td>0.000000</td>\n",
       "      <td>NaN</td>\n",
       "      <td>0.000000e+00</td>\n",
       "    </tr>\n",
       "    <tr>\n",
       "      <th>25%</th>\n",
       "      <td>36671.500000</td>\n",
       "      <td>23.500000</td>\n",
       "      <td>0.000000</td>\n",
       "      <td>7.778800</td>\n",
       "      <td>17.938786</td>\n",
       "      <td>17.100000</td>\n",
       "      <td>5.726700</td>\n",
       "      <td>17.500000</td>\n",
       "      <td>NaN</td>\n",
       "      <td>1.200000e+02</td>\n",
       "    </tr>\n",
       "    <tr>\n",
       "      <th>50%</th>\n",
       "      <td>73896.000000</td>\n",
       "      <td>36.000000</td>\n",
       "      <td>0.317501</td>\n",
       "      <td>13.652500</td>\n",
       "      <td>27.800000</td>\n",
       "      <td>26.700000</td>\n",
       "      <td>20.185100</td>\n",
       "      <td>25.400051</td>\n",
       "      <td>NaN</td>\n",
       "      <td>4.330000e+02</td>\n",
       "    </tr>\n",
       "    <tr>\n",
       "      <th>75%</th>\n",
       "      <td>141636.500000</td>\n",
       "      <td>71.125000</td>\n",
       "      <td>9.842510</td>\n",
       "      <td>24.980950</td>\n",
       "      <td>43.900000</td>\n",
       "      <td>79.700000</td>\n",
       "      <td>77.678500</td>\n",
       "      <td>44.200000</td>\n",
       "      <td>NaN</td>\n",
       "      <td>1.620000e+03</td>\n",
       "    </tr>\n",
       "    <tr>\n",
       "      <th>max</th>\n",
       "      <td>419289.000000</td>\n",
       "      <td>83.800000</td>\n",
       "      <td>1808.483617</td>\n",
       "      <td>914.400000</td>\n",
       "      <td>9140.000000</td>\n",
       "      <td>8321.056600</td>\n",
       "      <td>185067.585957</td>\n",
       "      <td>9144.000000</td>\n",
       "      <td>NaN</td>\n",
       "      <td>6.283065e+06</td>\n",
       "    </tr>\n",
       "  </tbody>\n",
       "</table>\n",
       "</div>"
      ],
      "text/plain": [
       "            ObjectID  Circumference (cm)    Depth (cm)  Diameter (cm)  \\\n",
       "count  138151.000000           10.000000  13839.000000    1462.000000   \n",
       "mean    97170.256618           44.868020     16.353863      23.094845   \n",
       "std     81950.720570           28.631604     54.495960      44.626483   \n",
       "min         2.000000            9.900000      0.000000       0.635000   \n",
       "25%     36671.500000           23.500000      0.000000       7.778800   \n",
       "50%     73896.000000           36.000000      0.317501      13.652500   \n",
       "75%    141636.500000           71.125000      9.842510      24.980950   \n",
       "max    419289.000000           83.800000   1808.483617     914.400000   \n",
       "\n",
       "         Height (cm)  Length (cm)    Weight (kg)     Width (cm)  \\\n",
       "count  120355.000000   742.000000     290.000000  119434.000000   \n",
       "mean       37.456124    89.687579    1283.674965      37.973398   \n",
       "std        49.604159   329.428165   12017.504240      67.277097   \n",
       "min         0.000000     0.000000       0.090000       0.000000   \n",
       "25%        17.938786    17.100000       5.726700      17.500000   \n",
       "50%        27.800000    26.700000      20.185100      25.400051   \n",
       "75%        43.900000    79.700000      77.678500      44.200000   \n",
       "max      9140.000000  8321.056600  185067.585957    9144.000000   \n",
       "\n",
       "       Seat Height (cm)  Duration (sec.)  \n",
       "count               0.0     2.140000e+03  \n",
       "mean                NaN     6.156488e+03  \n",
       "std                 NaN     1.371250e+05  \n",
       "min                 NaN     0.000000e+00  \n",
       "25%                 NaN     1.200000e+02  \n",
       "50%                 NaN     4.330000e+02  \n",
       "75%                 NaN     1.620000e+03  \n",
       "max                 NaN     6.283065e+06  "
      ]
     },
     "execution_count": 4,
     "metadata": {},
     "output_type": "execute_result"
    }
   ],
   "source": [
    "artwork.describe()"
   ]
  },
  {
   "cell_type": "code",
   "execution_count": 5,
   "metadata": {
    "slideshow": {
     "slide_type": "slide"
    }
   },
   "outputs": [
    {
     "name": "stdout",
     "output_type": "stream",
     "text": [
      "<class 'pandas.core.frame.DataFrame'>\n",
      "RangeIndex: 138151 entries, 0 to 138150\n",
      "Data columns (total 29 columns):\n",
      " #   Column              Non-Null Count   Dtype  \n",
      "---  ------              --------------   -----  \n",
      " 0   Title               138112 non-null  object \n",
      " 1   Artist              136868 non-null  object \n",
      " 2   ConstituentID       136868 non-null  object \n",
      " 3   ArtistBio           132226 non-null  object \n",
      " 4   Nationality         136868 non-null  object \n",
      " 5   BeginDate           136868 non-null  object \n",
      " 6   EndDate             136868 non-null  object \n",
      " 7   Gender              136868 non-null  object \n",
      " 8   Date                135949 non-null  object \n",
      " 9   Medium              128450 non-null  object \n",
      " 10  Dimensions          128397 non-null  object \n",
      " 11  CreditLine          135714 non-null  object \n",
      " 12  AccessionNumber     138151 non-null  object \n",
      " 13  Classification      138151 non-null  object \n",
      " 14  Department          138151 non-null  object \n",
      " 15  DateAcquired        131026 non-null  object \n",
      " 16  Cataloged           138151 non-null  object \n",
      " 17  ObjectID            138151 non-null  int64  \n",
      " 18  URL                 87184 non-null   object \n",
      " 19  ThumbnailURL        76409 non-null   object \n",
      " 20  Circumference (cm)  10 non-null      float64\n",
      " 21  Depth (cm)          13839 non-null   float64\n",
      " 22  Diameter (cm)       1462 non-null    float64\n",
      " 23  Height (cm)         120355 non-null  float64\n",
      " 24  Length (cm)         742 non-null     float64\n",
      " 25  Weight (kg)         290 non-null     float64\n",
      " 26  Width (cm)          119434 non-null  float64\n",
      " 27  Seat Height (cm)    0 non-null       float64\n",
      " 28  Duration (sec.)     2140 non-null    float64\n",
      "dtypes: float64(9), int64(1), object(19)\n",
      "memory usage: 30.6+ MB\n"
     ]
    }
   ],
   "source": [
    "artwork.info()"
   ]
  },
  {
   "cell_type": "markdown",
   "metadata": {
    "slideshow": {
     "slide_type": "slide"
    }
   },
   "source": [
    "## Inpecting columns\n",
    "\n",
    "* First step in understanding data\n",
    "* Look for problems with\n",
    "    * the *column names*\n",
    "    * column types\n",
    "    * column statistics\n",
    "    * column plots\n"
   ]
  },
  {
   "cell_type": "markdown",
   "metadata": {
    "slideshow": {
     "slide_type": "slide"
    }
   },
   "source": [
    "## Data Cleaning Checklist\n",
    "\n",
    "1. Deal with column names\n",
    "2. Deal with text columns\n",
    "3. Deal with numeric columns\n",
    "4. Deal with dates\n",
    "5. Look at relationships between columns"
   ]
  },
  {
   "cell_type": "markdown",
   "metadata": {
    "slideshow": {
     "slide_type": "slide"
    }
   },
   "source": [
    "## Data Cleaning Step 1 - Dealing with column names\n",
    "\n",
    "#### Necessary Steps\n",
    "\n",
    "* Carefully inspect the names \n",
    "* Strip whitespace\n",
    "* Replace spaces with `_`\n",
    "* Remove other offending characters\n",
    "    * Punctuation\n",
    "    * Latin symbols like å\n",
    "* Make sure column names are unique\n",
    "* Inspect the column type.  Anything unexpected?\n",
    "* **Advanced** Is there measurement data in the labels?  If so, you need to reshape"
   ]
  },
  {
   "cell_type": "markdown",
   "metadata": {
    "slideshow": {
     "slide_type": "slide"
    }
   },
   "source": [
    "#### Optional Steps\n",
    "\n",
    "* Make all lowercase \n",
    "* Add prefix \n",
    "    * if combining with another table \n",
    "* Look for other ways to make them meaningful but short"
   ]
  },
  {
   "cell_type": "markdown",
   "metadata": {
    "slideshow": {
     "slide_type": "slide"
    }
   },
   "source": [
    "## Inspecting column names  - Pandas\n",
    "\n",
    "Use the `df.columns` attribute"
   ]
  },
  {
   "cell_type": "code",
   "execution_count": 9,
   "metadata": {
    "slideshow": {
     "slide_type": "fragment"
    }
   },
   "outputs": [
    {
     "data": {
      "text/plain": [
       "Index(['Title', 'Artist', 'ConstituentID', 'ArtistBio', 'Nationality',\n",
       "       'BeginDate', 'EndDate', 'Gender', 'Date', 'Medium', 'Dimensions',\n",
       "       'CreditLine', 'AccessionNumber', 'Classification', 'Department',\n",
       "       'DateAcquired', 'Cataloged', 'ObjectID', 'URL', 'ThumbnailURL',\n",
       "       'Circumference (cm)', 'Depth (cm)', 'Diameter (cm)', 'Height (cm)',\n",
       "       'Length (cm)', 'Weight (kg)', 'Width (cm)', 'Seat Height (cm)',\n",
       "       'Duration (sec.)'],\n",
       "      dtype='object')"
      ]
     },
     "execution_count": 9,
     "metadata": {},
     "output_type": "execute_result"
    }
   ],
   "source": [
    "artwork.columns"
   ]
  },
  {
   "cell_type": "markdown",
   "metadata": {
    "slideshow": {
     "slide_type": "slide"
    }
   },
   "source": [
    "## <font color=\"red\"> Exercise 2: Run through the checklist. </font>\n",
    "\n",
    "What are the issues that need to be fixed in the `artist` header?"
   ]
  },
  {
   "cell_type": "markdown",
   "metadata": {
    "slideshow": {
     "slide_type": "fragment"
    }
   },
   "source": [
    "*Multiple people with spaces and first and last name first letter capitalized*"
   ]
  },
  {
   "cell_type": "markdown",
   "metadata": {
    "slideshow": {
     "slide_type": "slide"
    }
   },
   "source": [
    "## <font color=\"red\"> Exercise 3 </font>\n",
    "\n",
    "Apply the checklist to the `artwork` data frame.  What issues need to be fixed?"
   ]
  },
  {
   "cell_type": "markdown",
   "metadata": {
    "slideshow": {
     "slide_type": "fragment"
    }
   },
   "source": [
    "*Height, length, and width have rows with 0 in them. Seat height has 0.0 and NAN*"
   ]
  },
  {
   "cell_type": "markdown",
   "metadata": {
    "slideshow": {
     "slide_type": "slide"
    }
   },
   "source": [
    "## Accessing columns with improper names\n",
    "\n",
    "Note the column `'Wiki QID'`.\n",
    "\n",
    "* Not a proper Python name\n",
    "* No attribute\n",
    "* Access with `artists['Wiki QID']`"
   ]
  },
  {
   "cell_type": "code",
   "execution_count": 12,
   "metadata": {},
   "outputs": [
    {
     "data": {
      "text/html": [
       "<div>\n",
       "<style scoped>\n",
       "    .dataframe tbody tr th:only-of-type {\n",
       "        vertical-align: middle;\n",
       "    }\n",
       "\n",
       "    .dataframe tbody tr th {\n",
       "        vertical-align: top;\n",
       "    }\n",
       "\n",
       "    .dataframe thead th {\n",
       "        text-align: right;\n",
       "    }\n",
       "</style>\n",
       "<table border=\"1\" class=\"dataframe\">\n",
       "  <thead>\n",
       "    <tr style=\"text-align: right;\">\n",
       "      <th></th>\n",
       "      <th>ConstituentID</th>\n",
       "      <th>DisplayName</th>\n",
       "      <th>ArtistBio</th>\n",
       "      <th>Nationality</th>\n",
       "      <th>Gender</th>\n",
       "      <th>BeginDate</th>\n",
       "      <th>EndDate</th>\n",
       "      <th>Wiki QID</th>\n",
       "      <th>ULAN</th>\n",
       "    </tr>\n",
       "  </thead>\n",
       "  <tbody>\n",
       "    <tr>\n",
       "      <th>0</th>\n",
       "      <td>1</td>\n",
       "      <td>Robert Arneson</td>\n",
       "      <td>American, 1930–1992</td>\n",
       "      <td>American</td>\n",
       "      <td>Male</td>\n",
       "      <td>1930</td>\n",
       "      <td>1992</td>\n",
       "      <td>NaN</td>\n",
       "      <td>NaN</td>\n",
       "    </tr>\n",
       "    <tr>\n",
       "      <th>1</th>\n",
       "      <td>2</td>\n",
       "      <td>Doroteo Arnaiz</td>\n",
       "      <td>Spanish, born 1936</td>\n",
       "      <td>Spanish</td>\n",
       "      <td>Male</td>\n",
       "      <td>1936</td>\n",
       "      <td>0</td>\n",
       "      <td>NaN</td>\n",
       "      <td>NaN</td>\n",
       "    </tr>\n",
       "    <tr>\n",
       "      <th>2</th>\n",
       "      <td>3</td>\n",
       "      <td>Bill Arnold</td>\n",
       "      <td>American, born 1941</td>\n",
       "      <td>American</td>\n",
       "      <td>Male</td>\n",
       "      <td>1941</td>\n",
       "      <td>0</td>\n",
       "      <td>NaN</td>\n",
       "      <td>NaN</td>\n",
       "    </tr>\n",
       "    <tr>\n",
       "      <th>3</th>\n",
       "      <td>4</td>\n",
       "      <td>Charles Arnoldi</td>\n",
       "      <td>American, born 1946</td>\n",
       "      <td>American</td>\n",
       "      <td>Male</td>\n",
       "      <td>1946</td>\n",
       "      <td>0</td>\n",
       "      <td>Q1063584</td>\n",
       "      <td>500027998.0</td>\n",
       "    </tr>\n",
       "    <tr>\n",
       "      <th>4</th>\n",
       "      <td>5</td>\n",
       "      <td>Per Arnoldi</td>\n",
       "      <td>Danish, born 1941</td>\n",
       "      <td>Danish</td>\n",
       "      <td>Male</td>\n",
       "      <td>1941</td>\n",
       "      <td>0</td>\n",
       "      <td>NaN</td>\n",
       "      <td>NaN</td>\n",
       "    </tr>\n",
       "  </tbody>\n",
       "</table>\n",
       "</div>"
      ],
      "text/plain": [
       "   ConstituentID      DisplayName            ArtistBio Nationality Gender  \\\n",
       "0              1   Robert Arneson  American, 1930–1992    American   Male   \n",
       "1              2   Doroteo Arnaiz   Spanish, born 1936     Spanish   Male   \n",
       "2              3      Bill Arnold  American, born 1941    American   Male   \n",
       "3              4  Charles Arnoldi  American, born 1946    American   Male   \n",
       "4              5      Per Arnoldi    Danish, born 1941      Danish   Male   \n",
       "\n",
       "   BeginDate  EndDate  Wiki QID         ULAN  \n",
       "0       1930     1992       NaN          NaN  \n",
       "1       1936        0       NaN          NaN  \n",
       "2       1941        0       NaN          NaN  \n",
       "3       1946        0  Q1063584  500027998.0  \n",
       "4       1941        0       NaN          NaN  "
      ]
     },
     "execution_count": 12,
     "metadata": {},
     "output_type": "execute_result"
    }
   ],
   "source": [
    "artists = pd.read_csv(\"./data/Artists.csv\")\n",
    "artists.head()"
   ]
  },
  {
   "cell_type": "code",
   "execution_count": 14,
   "metadata": {
    "slideshow": {
     "slide_type": "fragment"
    }
   },
   "outputs": [
    {
     "ename": "AttributeError",
     "evalue": "'DataFrame' object has no attribute 'Wiki_QID'",
     "output_type": "error",
     "traceback": [
      "\u001b[0;31m---------------------------------------------------------------------------\u001b[0m",
      "\u001b[0;31mAttributeError\u001b[0m                            Traceback (most recent call last)",
      "\u001b[0;32m<ipython-input-14-148b0cc34b44>\u001b[0m in \u001b[0;36m<module>\u001b[0;34m\u001b[0m\n\u001b[0;32m----> 1\u001b[0;31m \u001b[0martists\u001b[0m\u001b[0;34m.\u001b[0m\u001b[0mWiki_QID\u001b[0m\u001b[0;31m# <-- Try tab ... doesn't work ... no attribute\u001b[0m\u001b[0;34m\u001b[0m\u001b[0;34m\u001b[0m\u001b[0m\n\u001b[0m",
      "\u001b[0;32m~/.pyenv/versions/anaconda3-2020.02/lib/python3.7/site-packages/pandas/core/generic.py\u001b[0m in \u001b[0;36m__getattr__\u001b[0;34m(self, name)\u001b[0m\n\u001b[1;32m   5460\u001b[0m             \u001b[0;32mif\u001b[0m \u001b[0mself\u001b[0m\u001b[0;34m.\u001b[0m\u001b[0m_info_axis\u001b[0m\u001b[0;34m.\u001b[0m\u001b[0m_can_hold_identifiers_and_holds_name\u001b[0m\u001b[0;34m(\u001b[0m\u001b[0mname\u001b[0m\u001b[0;34m)\u001b[0m\u001b[0;34m:\u001b[0m\u001b[0;34m\u001b[0m\u001b[0;34m\u001b[0m\u001b[0m\n\u001b[1;32m   5461\u001b[0m                 \u001b[0;32mreturn\u001b[0m \u001b[0mself\u001b[0m\u001b[0;34m[\u001b[0m\u001b[0mname\u001b[0m\u001b[0;34m]\u001b[0m\u001b[0;34m\u001b[0m\u001b[0;34m\u001b[0m\u001b[0m\n\u001b[0;32m-> 5462\u001b[0;31m             \u001b[0;32mreturn\u001b[0m \u001b[0mobject\u001b[0m\u001b[0;34m.\u001b[0m\u001b[0m__getattribute__\u001b[0m\u001b[0;34m(\u001b[0m\u001b[0mself\u001b[0m\u001b[0;34m,\u001b[0m \u001b[0mname\u001b[0m\u001b[0;34m)\u001b[0m\u001b[0;34m\u001b[0m\u001b[0;34m\u001b[0m\u001b[0m\n\u001b[0m\u001b[1;32m   5463\u001b[0m \u001b[0;34m\u001b[0m\u001b[0m\n\u001b[1;32m   5464\u001b[0m     \u001b[0;32mdef\u001b[0m \u001b[0m__setattr__\u001b[0m\u001b[0;34m(\u001b[0m\u001b[0mself\u001b[0m\u001b[0;34m,\u001b[0m \u001b[0mname\u001b[0m\u001b[0;34m:\u001b[0m \u001b[0mstr\u001b[0m\u001b[0;34m,\u001b[0m \u001b[0mvalue\u001b[0m\u001b[0;34m)\u001b[0m \u001b[0;34m->\u001b[0m \u001b[0;32mNone\u001b[0m\u001b[0;34m:\u001b[0m\u001b[0;34m\u001b[0m\u001b[0;34m\u001b[0m\u001b[0m\n",
      "\u001b[0;31mAttributeError\u001b[0m: 'DataFrame' object has no attribute 'Wiki_QID'"
     ]
    }
   ],
   "source": [
    "artists.Wiki_QID# <-- Try tab ... doesn't work ... no attribute"
   ]
  },
  {
   "cell_type": "code",
   "execution_count": 15,
   "metadata": {
    "scrolled": true,
    "slideshow": {
     "slide_type": "fragment"
    }
   },
   "outputs": [
    {
     "data": {
      "text/plain": [
       "0         NaN\n",
       "1         NaN\n",
       "2         NaN\n",
       "3    Q1063584\n",
       "4         NaN\n",
       "Name: Wiki QID, dtype: object"
      ]
     },
     "execution_count": 15,
     "metadata": {},
     "output_type": "execute_result"
    }
   ],
   "source": [
    "artists['Wiki QID'].head()"
   ]
  },
  {
   "cell_type": "markdown",
   "metadata": {
    "slideshow": {
     "slide_type": "slide"
    }
   },
   "source": [
    "## Fixing column names\n",
    "\n",
    "Most Python string methods are available in `df.columns.str`"
   ]
  },
  {
   "cell_type": "code",
   "execution_count": 16,
   "metadata": {
    "slideshow": {
     "slide_type": "fragment"
    }
   },
   "outputs": [
    {
     "data": {
      "text/plain": [
       "Index(['ConstituentID', 'DisplayName', 'ArtistBio', 'Nationality', 'Gender',\n",
       "       'BeginDate', 'EndDate', 'Wiki_QID', 'ULAN'],\n",
       "      dtype='object')"
      ]
     },
     "execution_count": 16,
     "metadata": {},
     "output_type": "execute_result"
    }
   ],
   "source": [
    "artists.columns.str.replace(' ', '_')"
   ]
  },
  {
   "cell_type": "code",
   "execution_count": 17,
   "metadata": {
    "slideshow": {
     "slide_type": "fragment"
    }
   },
   "outputs": [
    {
     "data": {
      "text/plain": [
       "0         NaN\n",
       "1         NaN\n",
       "2         NaN\n",
       "3    Q1063584\n",
       "4         NaN\n",
       "Name: Wiki_QID, dtype: object"
      ]
     },
     "execution_count": 17,
     "metadata": {},
     "output_type": "execute_result"
    }
   ],
   "source": [
    "artists.columns = artists.columns.str.replace(' ', '_')\n",
    "artists.Wiki_QID.head()"
   ]
  },
  {
   "cell_type": "markdown",
   "metadata": {
    "slideshow": {
     "slide_type": "slide"
    }
   },
   "source": [
    "## Renaming columns, a functional approach\n",
    "\n",
    "* Using assignment can break our flow.\n",
    "* Mutation makes reasoning about programs hard.\n",
    "* In practice, we will use `dfply.rename` in a pipe"
   ]
  },
  {
   "cell_type": "code",
   "execution_count": 9,
   "metadata": {
    "slideshow": {
     "slide_type": "fragment"
    }
   },
   "outputs": [
    {
     "data": {
      "text/html": [
       "<div>\n",
       "<style scoped>\n",
       "    .dataframe tbody tr th:only-of-type {\n",
       "        vertical-align: middle;\n",
       "    }\n",
       "\n",
       "    .dataframe tbody tr th {\n",
       "        vertical-align: top;\n",
       "    }\n",
       "\n",
       "    .dataframe thead th {\n",
       "        text-align: right;\n",
       "    }\n",
       "</style>\n",
       "<table border=\"1\" class=\"dataframe\">\n",
       "  <thead>\n",
       "    <tr style=\"text-align: right;\">\n",
       "      <th></th>\n",
       "      <th>ConstituentID</th>\n",
       "      <th>DisplayName</th>\n",
       "      <th>ArtistBio</th>\n",
       "      <th>Nationality</th>\n",
       "      <th>Gender</th>\n",
       "      <th>BeginDate</th>\n",
       "      <th>EndDate</th>\n",
       "      <th>Wiki_QID</th>\n",
       "      <th>ULAN</th>\n",
       "    </tr>\n",
       "  </thead>\n",
       "  <tbody>\n",
       "    <tr>\n",
       "      <th>0</th>\n",
       "      <td>1</td>\n",
       "      <td>Robert Arneson</td>\n",
       "      <td>American, 1930–1992</td>\n",
       "      <td>American</td>\n",
       "      <td>Male</td>\n",
       "      <td>1930</td>\n",
       "      <td>1992</td>\n",
       "      <td>NaN</td>\n",
       "      <td>NaN</td>\n",
       "    </tr>\n",
       "    <tr>\n",
       "      <th>1</th>\n",
       "      <td>2</td>\n",
       "      <td>Doroteo Arnaiz</td>\n",
       "      <td>Spanish, born 1936</td>\n",
       "      <td>Spanish</td>\n",
       "      <td>Male</td>\n",
       "      <td>1936</td>\n",
       "      <td>0</td>\n",
       "      <td>NaN</td>\n",
       "      <td>NaN</td>\n",
       "    </tr>\n",
       "    <tr>\n",
       "      <th>2</th>\n",
       "      <td>3</td>\n",
       "      <td>Bill Arnold</td>\n",
       "      <td>American, born 1941</td>\n",
       "      <td>American</td>\n",
       "      <td>Male</td>\n",
       "      <td>1941</td>\n",
       "      <td>0</td>\n",
       "      <td>NaN</td>\n",
       "      <td>NaN</td>\n",
       "    </tr>\n",
       "    <tr>\n",
       "      <th>3</th>\n",
       "      <td>4</td>\n",
       "      <td>Charles Arnoldi</td>\n",
       "      <td>American, born 1946</td>\n",
       "      <td>American</td>\n",
       "      <td>Male</td>\n",
       "      <td>1946</td>\n",
       "      <td>0</td>\n",
       "      <td>Q1063584</td>\n",
       "      <td>500027998.0</td>\n",
       "    </tr>\n",
       "    <tr>\n",
       "      <th>4</th>\n",
       "      <td>5</td>\n",
       "      <td>Per Arnoldi</td>\n",
       "      <td>Danish, born 1941</td>\n",
       "      <td>Danish</td>\n",
       "      <td>Male</td>\n",
       "      <td>1941</td>\n",
       "      <td>0</td>\n",
       "      <td>NaN</td>\n",
       "      <td>NaN</td>\n",
       "    </tr>\n",
       "  </tbody>\n",
       "</table>\n",
       "</div>"
      ],
      "text/plain": [
       "   ConstituentID      DisplayName            ArtistBio Nationality Gender  \\\n",
       "0              1   Robert Arneson  American, 1930–1992    American   Male   \n",
       "1              2   Doroteo Arnaiz   Spanish, born 1936     Spanish   Male   \n",
       "2              3      Bill Arnold  American, born 1941    American   Male   \n",
       "3              4  Charles Arnoldi  American, born 1946    American   Male   \n",
       "4              5      Per Arnoldi    Danish, born 1941      Danish   Male   \n",
       "\n",
       "   BeginDate  EndDate  Wiki_QID         ULAN  \n",
       "0       1930     1992       NaN          NaN  \n",
       "1       1936        0       NaN          NaN  \n",
       "2       1941        0       NaN          NaN  \n",
       "3       1946        0  Q1063584  500027998.0  \n",
       "4       1941        0       NaN          NaN  "
      ]
     },
     "execution_count": 9,
     "metadata": {},
     "output_type": "execute_result"
    }
   ],
   "source": [
    "from dfply import rename, head\n",
    "(artists >>\n",
    "  rename(Wiki_QID = \"Wiki QID\") >>\n",
    "  head)"
   ]
  },
  {
   "cell_type": "markdown",
   "metadata": {
    "slideshow": {
     "slide_type": "slide"
    }
   },
   "source": [
    "## <font color=\"red\"> Exercise 3 </font>\n",
    "    \n",
    "Inspect `dir(artwork.columns.str)` and say hello to some old friends\n"
   ]
  },
  {
   "cell_type": "code",
   "execution_count": 18,
   "metadata": {
    "slideshow": {
     "slide_type": "slide"
    }
   },
   "outputs": [
    {
     "data": {
      "text/plain": [
       "['Hello capitalize, I sure missed you!',\n",
       " 'Hello casefold, I sure missed you!',\n",
       " 'Hello cat, I sure missed you!',\n",
       " 'Hello center, I sure missed you!',\n",
       " 'Hello contains, I sure missed you!',\n",
       " 'Hello count, I sure missed you!',\n",
       " 'Hello decode, I sure missed you!',\n",
       " 'Hello encode, I sure missed you!',\n",
       " 'Hello endswith, I sure missed you!',\n",
       " 'Hello extract, I sure missed you!',\n",
       " 'Hello extractall, I sure missed you!',\n",
       " 'Hello find, I sure missed you!',\n",
       " 'Hello findall, I sure missed you!',\n",
       " 'Hello fullmatch, I sure missed you!',\n",
       " 'Hello get, I sure missed you!',\n",
       " 'Hello get_dummies, I sure missed you!',\n",
       " 'Hello index, I sure missed you!',\n",
       " 'Hello isalnum, I sure missed you!',\n",
       " 'Hello isalpha, I sure missed you!',\n",
       " 'Hello isdecimal, I sure missed you!',\n",
       " 'Hello isdigit, I sure missed you!',\n",
       " 'Hello islower, I sure missed you!',\n",
       " 'Hello isnumeric, I sure missed you!',\n",
       " 'Hello isspace, I sure missed you!',\n",
       " 'Hello istitle, I sure missed you!',\n",
       " 'Hello isupper, I sure missed you!',\n",
       " 'Hello join, I sure missed you!',\n",
       " 'Hello len, I sure missed you!',\n",
       " 'Hello ljust, I sure missed you!',\n",
       " 'Hello lower, I sure missed you!',\n",
       " 'Hello lstrip, I sure missed you!',\n",
       " 'Hello match, I sure missed you!',\n",
       " 'Hello normalize, I sure missed you!',\n",
       " 'Hello pad, I sure missed you!',\n",
       " 'Hello partition, I sure missed you!',\n",
       " 'Hello repeat, I sure missed you!',\n",
       " 'Hello replace, I sure missed you!',\n",
       " 'Hello rfind, I sure missed you!',\n",
       " 'Hello rindex, I sure missed you!',\n",
       " 'Hello rjust, I sure missed you!',\n",
       " 'Hello rpartition, I sure missed you!',\n",
       " 'Hello rsplit, I sure missed you!',\n",
       " 'Hello rstrip, I sure missed you!',\n",
       " 'Hello slice, I sure missed you!',\n",
       " 'Hello slice_replace, I sure missed you!',\n",
       " 'Hello split, I sure missed you!',\n",
       " 'Hello startswith, I sure missed you!',\n",
       " 'Hello strip, I sure missed you!',\n",
       " 'Hello swapcase, I sure missed you!',\n",
       " 'Hello title, I sure missed you!',\n",
       " 'Hello translate, I sure missed you!',\n",
       " 'Hello upper, I sure missed you!',\n",
       " 'Hello wrap, I sure missed you!',\n",
       " 'Hello zfill, I sure missed you!']"
      ]
     },
     "execution_count": 18,
     "metadata": {},
     "output_type": "execute_result"
    }
   ],
   "source": [
    "[ \"Hello {0}, I sure missed you!\".format(m) for m in dir(artwork.columns.str) if not m.startswith('_')]"
   ]
  },
  {
   "cell_type": "markdown",
   "metadata": {
    "slideshow": {
     "slide_type": "slide"
    }
   },
   "source": [
    "## <font color=\"red\"> Exercise 4 </font>\n",
    "    \n",
    "Identify and fix any problems with the column names of `artwork`\n"
   ]
  },
  {
   "cell_type": "code",
   "execution_count": 19,
   "metadata": {
    "slideshow": {
     "slide_type": "slide"
    }
   },
   "outputs": [
    {
     "name": "stderr",
     "output_type": "stream",
     "text": [
      "/home/pc7482yh/.pyenv/versions/anaconda3-2020.02/lib/python3.7/site-packages/ipykernel_launcher.py:1: FutureWarning: The default value of regex will change from True to False in a future version. In addition, single character regular expressions will*not* be treated as literal strings when regex=True.\n",
      "  \"\"\"Entry point for launching an IPython kernel.\n"
     ]
    },
    {
     "data": {
      "text/plain": [
       "Index(['Title', 'Artist', 'ConstituentID', 'ArtistBio', 'Nationality',\n",
       "       'BeginDate', 'EndDate', 'Gender', 'Date', 'Medium', 'Dimensions',\n",
       "       'CreditLine', 'AccessionNumber', 'Classification', 'Department',\n",
       "       'DateAcquired', 'Cataloged', 'ObjectID', 'URL', 'ThumbnailURL',\n",
       "       'Circumference_cm', 'Depth_cm', 'Diameter_cm', 'Height_cm', 'Length_cm',\n",
       "       'Weight_kg', 'Width_cm', 'Seat_Height_cm', 'Duration_sec'],\n",
       "      dtype='object')"
      ]
     },
     "execution_count": 19,
     "metadata": {},
     "output_type": "execute_result"
    }
   ],
   "source": [
    "artwork.columns = artwork.columns.str.replace(' ', '_').str.replace('(', '').str.replace(')', '').str.replace('.', '')\n",
    "artwork.columns"
   ]
  },
  {
   "cell_type": "code",
   "execution_count": 20,
   "metadata": {
    "scrolled": true,
    "slideshow": {
     "slide_type": "slide"
    }
   },
   "outputs": [
    {
     "data": {
      "text/html": [
       "<div>\n",
       "<style scoped>\n",
       "    .dataframe tbody tr th:only-of-type {\n",
       "        vertical-align: middle;\n",
       "    }\n",
       "\n",
       "    .dataframe tbody tr th {\n",
       "        vertical-align: top;\n",
       "    }\n",
       "\n",
       "    .dataframe thead th {\n",
       "        text-align: right;\n",
       "    }\n",
       "</style>\n",
       "<table border=\"1\" class=\"dataframe\">\n",
       "  <thead>\n",
       "    <tr style=\"text-align: right;\">\n",
       "      <th></th>\n",
       "      <th>Title</th>\n",
       "      <th>Artist</th>\n",
       "      <th>ConstituentID</th>\n",
       "      <th>ArtistBio</th>\n",
       "      <th>Nationality</th>\n",
       "      <th>BeginDate</th>\n",
       "      <th>EndDate</th>\n",
       "      <th>Gender</th>\n",
       "      <th>Date</th>\n",
       "      <th>Medium</th>\n",
       "      <th>...</th>\n",
       "      <th>ThumbnailURL</th>\n",
       "      <th>Circumference_cm</th>\n",
       "      <th>Depth_cm</th>\n",
       "      <th>Diameter_cm</th>\n",
       "      <th>Height_cm</th>\n",
       "      <th>Length_cm</th>\n",
       "      <th>Weight_kg</th>\n",
       "      <th>Width_cm</th>\n",
       "      <th>Seat_Height_cm</th>\n",
       "      <th>Duration_sec</th>\n",
       "    </tr>\n",
       "  </thead>\n",
       "  <tbody>\n",
       "    <tr>\n",
       "      <th>0</th>\n",
       "      <td>Ferdinandsbrücke Project, Vienna, Austria (Ele...</td>\n",
       "      <td>Otto Wagner</td>\n",
       "      <td>6210</td>\n",
       "      <td>(Austrian, 1841–1918)</td>\n",
       "      <td>(Austrian)</td>\n",
       "      <td>(1841)</td>\n",
       "      <td>(1918)</td>\n",
       "      <td>(Male)</td>\n",
       "      <td>1896</td>\n",
       "      <td>Ink and cut-and-pasted painted pages on paper</td>\n",
       "      <td>...</td>\n",
       "      <td>http://www.moma.org/media/W1siZiIsIjU5NDA1Il0s...</td>\n",
       "      <td>NaN</td>\n",
       "      <td>NaN</td>\n",
       "      <td>NaN</td>\n",
       "      <td>48.6000</td>\n",
       "      <td>NaN</td>\n",
       "      <td>NaN</td>\n",
       "      <td>168.9000</td>\n",
       "      <td>NaN</td>\n",
       "      <td>NaN</td>\n",
       "    </tr>\n",
       "    <tr>\n",
       "      <th>1</th>\n",
       "      <td>City of Music, National Superior Conservatory ...</td>\n",
       "      <td>Christian de Portzamparc</td>\n",
       "      <td>7470</td>\n",
       "      <td>(French, born 1944)</td>\n",
       "      <td>(French)</td>\n",
       "      <td>(1944)</td>\n",
       "      <td>(0)</td>\n",
       "      <td>(Male)</td>\n",
       "      <td>1987</td>\n",
       "      <td>Paint and colored pencil on print</td>\n",
       "      <td>...</td>\n",
       "      <td>http://www.moma.org/media/W1siZiIsIjk3Il0sWyJw...</td>\n",
       "      <td>NaN</td>\n",
       "      <td>NaN</td>\n",
       "      <td>NaN</td>\n",
       "      <td>40.6401</td>\n",
       "      <td>NaN</td>\n",
       "      <td>NaN</td>\n",
       "      <td>29.8451</td>\n",
       "      <td>NaN</td>\n",
       "      <td>NaN</td>\n",
       "    </tr>\n",
       "    <tr>\n",
       "      <th>2</th>\n",
       "      <td>Villa near Vienna Project, Outside Vienna, Aus...</td>\n",
       "      <td>Emil Hoppe</td>\n",
       "      <td>7605</td>\n",
       "      <td>(Austrian, 1876–1957)</td>\n",
       "      <td>(Austrian)</td>\n",
       "      <td>(1876)</td>\n",
       "      <td>(1957)</td>\n",
       "      <td>(Male)</td>\n",
       "      <td>1903</td>\n",
       "      <td>Graphite, pen, color pencil, ink, and gouache ...</td>\n",
       "      <td>...</td>\n",
       "      <td>http://www.moma.org/media/W1siZiIsIjk4Il0sWyJw...</td>\n",
       "      <td>NaN</td>\n",
       "      <td>NaN</td>\n",
       "      <td>NaN</td>\n",
       "      <td>34.3000</td>\n",
       "      <td>NaN</td>\n",
       "      <td>NaN</td>\n",
       "      <td>31.8000</td>\n",
       "      <td>NaN</td>\n",
       "      <td>NaN</td>\n",
       "    </tr>\n",
       "    <tr>\n",
       "      <th>3</th>\n",
       "      <td>The Manhattan Transcripts Project, New York, N...</td>\n",
       "      <td>Bernard Tschumi</td>\n",
       "      <td>7056</td>\n",
       "      <td>(French and Swiss, born Switzerland 1944)</td>\n",
       "      <td>()</td>\n",
       "      <td>(1944)</td>\n",
       "      <td>(0)</td>\n",
       "      <td>(Male)</td>\n",
       "      <td>1980</td>\n",
       "      <td>Photographic reproduction with colored synthet...</td>\n",
       "      <td>...</td>\n",
       "      <td>http://www.moma.org/media/W1siZiIsIjEyNCJdLFsi...</td>\n",
       "      <td>NaN</td>\n",
       "      <td>NaN</td>\n",
       "      <td>NaN</td>\n",
       "      <td>50.8000</td>\n",
       "      <td>NaN</td>\n",
       "      <td>NaN</td>\n",
       "      <td>50.8000</td>\n",
       "      <td>NaN</td>\n",
       "      <td>NaN</td>\n",
       "    </tr>\n",
       "    <tr>\n",
       "      <th>4</th>\n",
       "      <td>Villa, project, outside Vienna, Austria, Exter...</td>\n",
       "      <td>Emil Hoppe</td>\n",
       "      <td>7605</td>\n",
       "      <td>(Austrian, 1876–1957)</td>\n",
       "      <td>(Austrian)</td>\n",
       "      <td>(1876)</td>\n",
       "      <td>(1957)</td>\n",
       "      <td>(Male)</td>\n",
       "      <td>1903</td>\n",
       "      <td>Graphite, color pencil, ink, and gouache on tr...</td>\n",
       "      <td>...</td>\n",
       "      <td>http://www.moma.org/media/W1siZiIsIjEyNiJdLFsi...</td>\n",
       "      <td>NaN</td>\n",
       "      <td>NaN</td>\n",
       "      <td>NaN</td>\n",
       "      <td>38.4000</td>\n",
       "      <td>NaN</td>\n",
       "      <td>NaN</td>\n",
       "      <td>19.1000</td>\n",
       "      <td>NaN</td>\n",
       "      <td>NaN</td>\n",
       "    </tr>\n",
       "  </tbody>\n",
       "</table>\n",
       "<p>5 rows × 29 columns</p>\n",
       "</div>"
      ],
      "text/plain": [
       "                                               Title  \\\n",
       "0  Ferdinandsbrücke Project, Vienna, Austria (Ele...   \n",
       "1  City of Music, National Superior Conservatory ...   \n",
       "2  Villa near Vienna Project, Outside Vienna, Aus...   \n",
       "3  The Manhattan Transcripts Project, New York, N...   \n",
       "4  Villa, project, outside Vienna, Austria, Exter...   \n",
       "\n",
       "                     Artist ConstituentID  \\\n",
       "0               Otto Wagner          6210   \n",
       "1  Christian de Portzamparc          7470   \n",
       "2                Emil Hoppe          7605   \n",
       "3           Bernard Tschumi          7056   \n",
       "4                Emil Hoppe          7605   \n",
       "\n",
       "                                   ArtistBio Nationality BeginDate EndDate  \\\n",
       "0                      (Austrian, 1841–1918)  (Austrian)    (1841)  (1918)   \n",
       "1                        (French, born 1944)    (French)    (1944)     (0)   \n",
       "2                      (Austrian, 1876–1957)  (Austrian)    (1876)  (1957)   \n",
       "3  (French and Swiss, born Switzerland 1944)          ()    (1944)     (0)   \n",
       "4                      (Austrian, 1876–1957)  (Austrian)    (1876)  (1957)   \n",
       "\n",
       "   Gender  Date                                             Medium  ...  \\\n",
       "0  (Male)  1896      Ink and cut-and-pasted painted pages on paper  ...   \n",
       "1  (Male)  1987                  Paint and colored pencil on print  ...   \n",
       "2  (Male)  1903  Graphite, pen, color pencil, ink, and gouache ...  ...   \n",
       "3  (Male)  1980  Photographic reproduction with colored synthet...  ...   \n",
       "4  (Male)  1903  Graphite, color pencil, ink, and gouache on tr...  ...   \n",
       "\n",
       "                                        ThumbnailURL Circumference_cm  \\\n",
       "0  http://www.moma.org/media/W1siZiIsIjU5NDA1Il0s...              NaN   \n",
       "1  http://www.moma.org/media/W1siZiIsIjk3Il0sWyJw...              NaN   \n",
       "2  http://www.moma.org/media/W1siZiIsIjk4Il0sWyJw...              NaN   \n",
       "3  http://www.moma.org/media/W1siZiIsIjEyNCJdLFsi...              NaN   \n",
       "4  http://www.moma.org/media/W1siZiIsIjEyNiJdLFsi...              NaN   \n",
       "\n",
       "  Depth_cm Diameter_cm Height_cm Length_cm Weight_kg  Width_cm Seat_Height_cm  \\\n",
       "0      NaN         NaN   48.6000       NaN       NaN  168.9000            NaN   \n",
       "1      NaN         NaN   40.6401       NaN       NaN   29.8451            NaN   \n",
       "2      NaN         NaN   34.3000       NaN       NaN   31.8000            NaN   \n",
       "3      NaN         NaN   50.8000       NaN       NaN   50.8000            NaN   \n",
       "4      NaN         NaN   38.4000       NaN       NaN   19.1000            NaN   \n",
       "\n",
       "  Duration_sec  \n",
       "0          NaN  \n",
       "1          NaN  \n",
       "2          NaN  \n",
       "3          NaN  \n",
       "4          NaN  \n",
       "\n",
       "[5 rows x 29 columns]"
      ]
     },
     "execution_count": 20,
     "metadata": {},
     "output_type": "execute_result"
    }
   ],
   "source": [
    "# Functional variant\n",
    "fix_name = lambda name: name.replace(' ', '_').replace('(', '').replace(')', '').replace('.', '')\n",
    "new_names = {fix_name(old_name):old_name for old_name in artwork.columns}\n",
    "(artwork >>\n",
    "  rename(**new_names) >>\n",
    "  head)"
   ]
  },
  {
   "cell_type": "markdown",
   "metadata": {
    "slideshow": {
     "slide_type": "slide"
    }
   },
   "source": [
    "## Inspecting types and counts"
   ]
  },
  {
   "cell_type": "code",
   "execution_count": 21,
   "metadata": {
    "scrolled": true,
    "slideshow": {
     "slide_type": "fragment"
    }
   },
   "outputs": [
    {
     "name": "stdout",
     "output_type": "stream",
     "text": [
      "<class 'pandas.core.frame.DataFrame'>\n",
      "RangeIndex: 15222 entries, 0 to 15221\n",
      "Data columns (total 9 columns):\n",
      " #   Column         Non-Null Count  Dtype  \n",
      "---  ------         --------------  -----  \n",
      " 0   ConstituentID  15222 non-null  int64  \n",
      " 1   DisplayName    15222 non-null  object \n",
      " 2   ArtistBio      13017 non-null  object \n",
      " 3   Nationality    12770 non-null  object \n",
      " 4   Gender         12081 non-null  object \n",
      " 5   BeginDate      15222 non-null  int64  \n",
      " 6   EndDate        15222 non-null  int64  \n",
      " 7   Wiki_QID       3255 non-null   object \n",
      " 8   ULAN           2933 non-null   float64\n",
      "dtypes: float64(1), int64(3), object(5)\n",
      "memory usage: 1.0+ MB\n"
     ]
    }
   ],
   "source": [
    "artists.info()"
   ]
  },
  {
   "cell_type": "markdown",
   "metadata": {
    "slideshow": {
     "slide_type": "slide"
    }
   },
   "source": [
    "## Step 1 - Inspect counts to see missing data\n",
    "\n",
    "<img src=\"img/info_1.png\" widht=400>"
   ]
  },
  {
   "cell_type": "markdown",
   "metadata": {
    "slideshow": {
     "slide_type": "slide"
    }
   },
   "source": [
    "## Step 2 - Look for unexpected types\n",
    "\n",
    "<img src=\"img/info_2.png\" widht=400>"
   ]
  },
  {
   "cell_type": "markdown",
   "metadata": {
    "slideshow": {
     "slide_type": "slide"
    }
   },
   "source": [
    "## <font color=\"red\"> Exercise 5 </font>\n",
    "    \n",
    "**Task:** Inspect the types and head of `artwork`.  \n",
    "\n",
    "1. Which columns have the wrong type?  \n",
    "2. What should the types be?  \n",
    "3. Why are they \n"
   ]
  },
  {
   "cell_type": "code",
   "execution_count": 22,
   "metadata": {
    "slideshow": {
     "slide_type": "slide"
    }
   },
   "outputs": [
    {
     "data": {
      "text/html": [
       "<div>\n",
       "<style scoped>\n",
       "    .dataframe tbody tr th:only-of-type {\n",
       "        vertical-align: middle;\n",
       "    }\n",
       "\n",
       "    .dataframe tbody tr th {\n",
       "        vertical-align: top;\n",
       "    }\n",
       "\n",
       "    .dataframe thead th {\n",
       "        text-align: right;\n",
       "    }\n",
       "</style>\n",
       "<table border=\"1\" class=\"dataframe\">\n",
       "  <thead>\n",
       "    <tr style=\"text-align: right;\">\n",
       "      <th></th>\n",
       "      <th>Title</th>\n",
       "      <th>Artist</th>\n",
       "      <th>ConstituentID</th>\n",
       "      <th>ArtistBio</th>\n",
       "      <th>Nationality</th>\n",
       "      <th>BeginDate</th>\n",
       "      <th>EndDate</th>\n",
       "      <th>Gender</th>\n",
       "      <th>Date</th>\n",
       "      <th>Medium</th>\n",
       "      <th>...</th>\n",
       "      <th>ThumbnailURL</th>\n",
       "      <th>Circumference_cm</th>\n",
       "      <th>Depth_cm</th>\n",
       "      <th>Diameter_cm</th>\n",
       "      <th>Height_cm</th>\n",
       "      <th>Length_cm</th>\n",
       "      <th>Weight_kg</th>\n",
       "      <th>Width_cm</th>\n",
       "      <th>Seat_Height_cm</th>\n",
       "      <th>Duration_sec</th>\n",
       "    </tr>\n",
       "  </thead>\n",
       "  <tbody>\n",
       "    <tr>\n",
       "      <th>0</th>\n",
       "      <td>Ferdinandsbrücke Project, Vienna, Austria (Ele...</td>\n",
       "      <td>Otto Wagner</td>\n",
       "      <td>6210</td>\n",
       "      <td>(Austrian, 1841–1918)</td>\n",
       "      <td>(Austrian)</td>\n",
       "      <td>(1841)</td>\n",
       "      <td>(1918)</td>\n",
       "      <td>(Male)</td>\n",
       "      <td>1896</td>\n",
       "      <td>Ink and cut-and-pasted painted pages on paper</td>\n",
       "      <td>...</td>\n",
       "      <td>http://www.moma.org/media/W1siZiIsIjU5NDA1Il0s...</td>\n",
       "      <td>NaN</td>\n",
       "      <td>NaN</td>\n",
       "      <td>NaN</td>\n",
       "      <td>48.6000</td>\n",
       "      <td>NaN</td>\n",
       "      <td>NaN</td>\n",
       "      <td>168.9000</td>\n",
       "      <td>NaN</td>\n",
       "      <td>NaN</td>\n",
       "    </tr>\n",
       "    <tr>\n",
       "      <th>1</th>\n",
       "      <td>City of Music, National Superior Conservatory ...</td>\n",
       "      <td>Christian de Portzamparc</td>\n",
       "      <td>7470</td>\n",
       "      <td>(French, born 1944)</td>\n",
       "      <td>(French)</td>\n",
       "      <td>(1944)</td>\n",
       "      <td>(0)</td>\n",
       "      <td>(Male)</td>\n",
       "      <td>1987</td>\n",
       "      <td>Paint and colored pencil on print</td>\n",
       "      <td>...</td>\n",
       "      <td>http://www.moma.org/media/W1siZiIsIjk3Il0sWyJw...</td>\n",
       "      <td>NaN</td>\n",
       "      <td>NaN</td>\n",
       "      <td>NaN</td>\n",
       "      <td>40.6401</td>\n",
       "      <td>NaN</td>\n",
       "      <td>NaN</td>\n",
       "      <td>29.8451</td>\n",
       "      <td>NaN</td>\n",
       "      <td>NaN</td>\n",
       "    </tr>\n",
       "    <tr>\n",
       "      <th>2</th>\n",
       "      <td>Villa near Vienna Project, Outside Vienna, Aus...</td>\n",
       "      <td>Emil Hoppe</td>\n",
       "      <td>7605</td>\n",
       "      <td>(Austrian, 1876–1957)</td>\n",
       "      <td>(Austrian)</td>\n",
       "      <td>(1876)</td>\n",
       "      <td>(1957)</td>\n",
       "      <td>(Male)</td>\n",
       "      <td>1903</td>\n",
       "      <td>Graphite, pen, color pencil, ink, and gouache ...</td>\n",
       "      <td>...</td>\n",
       "      <td>http://www.moma.org/media/W1siZiIsIjk4Il0sWyJw...</td>\n",
       "      <td>NaN</td>\n",
       "      <td>NaN</td>\n",
       "      <td>NaN</td>\n",
       "      <td>34.3000</td>\n",
       "      <td>NaN</td>\n",
       "      <td>NaN</td>\n",
       "      <td>31.8000</td>\n",
       "      <td>NaN</td>\n",
       "      <td>NaN</td>\n",
       "    </tr>\n",
       "    <tr>\n",
       "      <th>3</th>\n",
       "      <td>The Manhattan Transcripts Project, New York, N...</td>\n",
       "      <td>Bernard Tschumi</td>\n",
       "      <td>7056</td>\n",
       "      <td>(French and Swiss, born Switzerland 1944)</td>\n",
       "      <td>()</td>\n",
       "      <td>(1944)</td>\n",
       "      <td>(0)</td>\n",
       "      <td>(Male)</td>\n",
       "      <td>1980</td>\n",
       "      <td>Photographic reproduction with colored synthet...</td>\n",
       "      <td>...</td>\n",
       "      <td>http://www.moma.org/media/W1siZiIsIjEyNCJdLFsi...</td>\n",
       "      <td>NaN</td>\n",
       "      <td>NaN</td>\n",
       "      <td>NaN</td>\n",
       "      <td>50.8000</td>\n",
       "      <td>NaN</td>\n",
       "      <td>NaN</td>\n",
       "      <td>50.8000</td>\n",
       "      <td>NaN</td>\n",
       "      <td>NaN</td>\n",
       "    </tr>\n",
       "    <tr>\n",
       "      <th>4</th>\n",
       "      <td>Villa, project, outside Vienna, Austria, Exter...</td>\n",
       "      <td>Emil Hoppe</td>\n",
       "      <td>7605</td>\n",
       "      <td>(Austrian, 1876–1957)</td>\n",
       "      <td>(Austrian)</td>\n",
       "      <td>(1876)</td>\n",
       "      <td>(1957)</td>\n",
       "      <td>(Male)</td>\n",
       "      <td>1903</td>\n",
       "      <td>Graphite, color pencil, ink, and gouache on tr...</td>\n",
       "      <td>...</td>\n",
       "      <td>http://www.moma.org/media/W1siZiIsIjEyNiJdLFsi...</td>\n",
       "      <td>NaN</td>\n",
       "      <td>NaN</td>\n",
       "      <td>NaN</td>\n",
       "      <td>38.4000</td>\n",
       "      <td>NaN</td>\n",
       "      <td>NaN</td>\n",
       "      <td>19.1000</td>\n",
       "      <td>NaN</td>\n",
       "      <td>NaN</td>\n",
       "    </tr>\n",
       "  </tbody>\n",
       "</table>\n",
       "<p>5 rows × 29 columns</p>\n",
       "</div>"
      ],
      "text/plain": [
       "                                               Title  \\\n",
       "0  Ferdinandsbrücke Project, Vienna, Austria (Ele...   \n",
       "1  City of Music, National Superior Conservatory ...   \n",
       "2  Villa near Vienna Project, Outside Vienna, Aus...   \n",
       "3  The Manhattan Transcripts Project, New York, N...   \n",
       "4  Villa, project, outside Vienna, Austria, Exter...   \n",
       "\n",
       "                     Artist ConstituentID  \\\n",
       "0               Otto Wagner          6210   \n",
       "1  Christian de Portzamparc          7470   \n",
       "2                Emil Hoppe          7605   \n",
       "3           Bernard Tschumi          7056   \n",
       "4                Emil Hoppe          7605   \n",
       "\n",
       "                                   ArtistBio Nationality BeginDate EndDate  \\\n",
       "0                      (Austrian, 1841–1918)  (Austrian)    (1841)  (1918)   \n",
       "1                        (French, born 1944)    (French)    (1944)     (0)   \n",
       "2                      (Austrian, 1876–1957)  (Austrian)    (1876)  (1957)   \n",
       "3  (French and Swiss, born Switzerland 1944)          ()    (1944)     (0)   \n",
       "4                      (Austrian, 1876–1957)  (Austrian)    (1876)  (1957)   \n",
       "\n",
       "   Gender  Date                                             Medium  ...  \\\n",
       "0  (Male)  1896      Ink and cut-and-pasted painted pages on paper  ...   \n",
       "1  (Male)  1987                  Paint and colored pencil on print  ...   \n",
       "2  (Male)  1903  Graphite, pen, color pencil, ink, and gouache ...  ...   \n",
       "3  (Male)  1980  Photographic reproduction with colored synthet...  ...   \n",
       "4  (Male)  1903  Graphite, color pencil, ink, and gouache on tr...  ...   \n",
       "\n",
       "                                        ThumbnailURL Circumference_cm  \\\n",
       "0  http://www.moma.org/media/W1siZiIsIjU5NDA1Il0s...              NaN   \n",
       "1  http://www.moma.org/media/W1siZiIsIjk3Il0sWyJw...              NaN   \n",
       "2  http://www.moma.org/media/W1siZiIsIjk4Il0sWyJw...              NaN   \n",
       "3  http://www.moma.org/media/W1siZiIsIjEyNCJdLFsi...              NaN   \n",
       "4  http://www.moma.org/media/W1siZiIsIjEyNiJdLFsi...              NaN   \n",
       "\n",
       "  Depth_cm Diameter_cm Height_cm Length_cm Weight_kg  Width_cm Seat_Height_cm  \\\n",
       "0      NaN         NaN   48.6000       NaN       NaN  168.9000            NaN   \n",
       "1      NaN         NaN   40.6401       NaN       NaN   29.8451            NaN   \n",
       "2      NaN         NaN   34.3000       NaN       NaN   31.8000            NaN   \n",
       "3      NaN         NaN   50.8000       NaN       NaN   50.8000            NaN   \n",
       "4      NaN         NaN   38.4000       NaN       NaN   19.1000            NaN   \n",
       "\n",
       "  Duration_sec  \n",
       "0          NaN  \n",
       "1          NaN  \n",
       "2          NaN  \n",
       "3          NaN  \n",
       "4          NaN  \n",
       "\n",
       "[5 rows x 29 columns]"
      ]
     },
     "execution_count": 22,
     "metadata": {},
     "output_type": "execute_result"
    }
   ],
   "source": [
    "artwork.head()"
   ]
  },
  {
   "cell_type": "code",
   "execution_count": 23,
   "metadata": {
    "slideshow": {
     "slide_type": "slide"
    }
   },
   "outputs": [
    {
     "name": "stdout",
     "output_type": "stream",
     "text": [
      "<class 'pandas.core.frame.DataFrame'>\n",
      "RangeIndex: 138151 entries, 0 to 138150\n",
      "Data columns (total 29 columns):\n",
      " #   Column            Non-Null Count   Dtype  \n",
      "---  ------            --------------   -----  \n",
      " 0   Title             138112 non-null  object \n",
      " 1   Artist            136868 non-null  object \n",
      " 2   ConstituentID     136868 non-null  object \n",
      " 3   ArtistBio         132226 non-null  object \n",
      " 4   Nationality       136868 non-null  object \n",
      " 5   BeginDate         136868 non-null  object \n",
      " 6   EndDate           136868 non-null  object \n",
      " 7   Gender            136868 non-null  object \n",
      " 8   Date              135949 non-null  object \n",
      " 9   Medium            128450 non-null  object \n",
      " 10  Dimensions        128397 non-null  object \n",
      " 11  CreditLine        135714 non-null  object \n",
      " 12  AccessionNumber   138151 non-null  object \n",
      " 13  Classification    138151 non-null  object \n",
      " 14  Department        138151 non-null  object \n",
      " 15  DateAcquired      131026 non-null  object \n",
      " 16  Cataloged         138151 non-null  object \n",
      " 17  ObjectID          138151 non-null  int64  \n",
      " 18  URL               87184 non-null   object \n",
      " 19  ThumbnailURL      76409 non-null   object \n",
      " 20  Circumference_cm  10 non-null      float64\n",
      " 21  Depth_cm          13839 non-null   float64\n",
      " 22  Diameter_cm       1462 non-null    float64\n",
      " 23  Height_cm         120355 non-null  float64\n",
      " 24  Length_cm         742 non-null     float64\n",
      " 25  Weight_kg         290 non-null     float64\n",
      " 26  Width_cm          119434 non-null  float64\n",
      " 27  Seat_Height_cm    0 non-null       float64\n",
      " 28  Duration_sec      2140 non-null    float64\n",
      "dtypes: float64(9), int64(1), object(19)\n",
      "memory usage: 30.6+ MB\n"
     ]
    }
   ],
   "source": [
    "artwork.info()"
   ]
  },
  {
   "cell_type": "markdown",
   "metadata": {
    "slideshow": {
     "slide_type": "slide"
    }
   },
   "source": [
    "The following columns should be numeric: BeginDate, EndDate, Date, etc."
   ]
  },
  {
   "cell_type": "markdown",
   "metadata": {
    "slideshow": {
     "slide_type": "slide"
    }
   },
   "source": [
    "## Data Cleaning Step 2 - Dealing with a numeric column\n",
    "\n",
    "#### Necessary steps\n",
    "\n",
    "* Inspect numeric summaries.  Do they make sense?\n",
    "* Plot a histogram.  Anything unusual?\n",
    "* Look at the min/max values.  Are they reasonable?\n",
    "* Think about practical bounds\n",
    "    * 0 <= percent <= 100\n",
    "    * 0 <= fraction <= 1\n",
    "    * Height > 0\n",
    "* How are missing values represented?  Is if consistent?\n",
    "    * Watch out for `0` in place of missing.\n",
    "    "
   ]
  },
  {
   "cell_type": "markdown",
   "metadata": {
    "slideshow": {
     "slide_type": "slide"
    }
   },
   "source": [
    "#### Optional steps\n",
    "\n",
    "* Apply a log/sqrt transform to skewed data\n",
    "* Remove outliers?\n",
    "* Impute missing values?"
   ]
  },
  {
   "cell_type": "markdown",
   "metadata": {
    "slideshow": {
     "slide_type": "slide"
    }
   },
   "source": [
    "## Inspecting numeric columns\n",
    "\n",
    "* Statistic: `describe()`"
   ]
  },
  {
   "cell_type": "code",
   "execution_count": 24,
   "metadata": {
    "scrolled": true,
    "slideshow": {
     "slide_type": "fragment"
    }
   },
   "outputs": [
    {
     "data": {
      "text/plain": [
       "count    15222.000000\n",
       "mean      1464.725726\n",
       "std        826.627736\n",
       "min          0.000000\n",
       "25%       1825.000000\n",
       "50%       1922.000000\n",
       "75%       1948.000000\n",
       "max       2017.000000\n",
       "Name: BeginDate, dtype: float64"
      ]
     },
     "execution_count": 24,
     "metadata": {},
     "output_type": "execute_result"
    }
   ],
   "source": [
    "artists.BeginDate.describe()"
   ]
  },
  {
   "cell_type": "markdown",
   "metadata": {
    "slideshow": {
     "slide_type": "slide"
    }
   },
   "source": [
    "## Be a data detective\n",
    "\n",
    "<img src=\"./img/artist_describe.png\" width=400>"
   ]
  },
  {
   "cell_type": "markdown",
   "metadata": {
    "slideshow": {
     "slide_type": "slide"
    }
   },
   "source": [
    "## Be a data detective\n",
    "\n",
    "<img src=\"./img/artist_describe_really.png\" width=400>"
   ]
  },
  {
   "cell_type": "markdown",
   "metadata": {
    "slideshow": {
     "slide_type": "slide"
    }
   },
   "source": [
    "## Inspecting numeric columns\n",
    "\n",
    "* Plots: `plot('hist')`\n",
    "    * Requires `matplotlib.pylab`\n",
    "\n",
    "**Question:** What's up with the left-most bar?  How should this be fixed?"
   ]
  },
  {
   "cell_type": "code",
   "execution_count": 26,
   "metadata": {
    "scrolled": false,
    "slideshow": {
     "slide_type": "slide"
    }
   },
   "outputs": [
    {
     "data": {
      "text/plain": [
       "<matplotlib.axes._subplots.AxesSubplot at 0x7f6024d6ef50>"
      ]
     },
     "execution_count": 26,
     "metadata": {},
     "output_type": "execute_result"
    },
    {
     "data": {
      "image/png": "[encoded data removed]",
      "text/plain": [
       "<Figure size 432x288 with 1 Axes>"
      ]
     },
     "metadata": {
      "needs_background": "light"
     },
     "output_type": "display_data"
    }
   ],
   "source": [
    "import matplotlib.pylab as plt\n",
    "%matplotlib inline\n",
    "artists.BeginDate.plot(kind='hist', bins = 50)"
   ]
  },
  {
   "cell_type": "markdown",
   "metadata": {
    "slideshow": {
     "slide_type": "slide"
    }
   },
   "source": [
    "## How is missing data represented?\n",
    "\n",
    "<img src=\"./img/artist_zero_is_missing.png\" width=400>\n",
    "\n",
    "We will fix this soon!"
   ]
  },
  {
   "cell_type": "markdown",
   "metadata": {
    "slideshow": {
     "slide_type": "slide"
    }
   },
   "source": [
    "## Data Cleaning Step 3 - Dealing with a text column\n",
    "\n",
    "#### Necessary steps\n",
    "\n",
    "* Inspect a list of unique labels and their counts\n",
    "    * Look at the most common and fix common errors\n",
    "    * Look at the least common, odd cases hide here\n",
    "* Plot the frequency distribution.  Anything unusual?\n",
    "* How are missing data represented?  Is it consistent?\n",
    "    * Switch to `np.NaN` (Pandas), `None` (pure Python), `null` (Spark SQL)\n",
    "* Look for and fix similarities in the labels\n",
    "    * i.e. \"Todd\" vs. \"todd\""
   ]
  },
  {
   "cell_type": "markdown",
   "metadata": {
    "slideshow": {
     "slide_type": "slide"
    }
   },
   "source": [
    "#### Optional steps\n",
    "\n",
    "* Consider switching to lowercase\n",
    "* Consider adding a `\"Other\"` category for rare labels\n",
    "* Consider recoding into broader categories"
   ]
  },
  {
   "cell_type": "markdown",
   "metadata": {
    "slideshow": {
     "slide_type": "slide"
    }
   },
   "source": [
    "## Inspecting text columns\n",
    "\n",
    "* Stats: `value_counts()`\n",
    "* Number of labels: `value_counts().shape"
   ]
  },
  {
   "cell_type": "code",
   "execution_count": 27,
   "metadata": {
    "slideshow": {
     "slide_type": "fragment"
    }
   },
   "outputs": [
    {
     "data": {
      "text/plain": [
       "(118,)"
      ]
     },
     "execution_count": 27,
     "metadata": {},
     "output_type": "execute_result"
    }
   ],
   "source": [
    "artists.Nationality.value_counts().shape # Number of unique labels"
   ]
  },
  {
   "cell_type": "code",
   "execution_count": 28,
   "metadata": {
    "scrolled": true,
    "slideshow": {
     "slide_type": "fragment"
    }
   },
   "outputs": [
    {
     "data": {
      "text/plain": [
       "American       5194\n",
       "German          969\n",
       "British         854\n",
       "French          848\n",
       "Italian         539\n",
       "               ... \n",
       "Cambodian         1\n",
       "Salvadoran        1\n",
       "Beninese          1\n",
       "Kuwaiti           1\n",
       "Bangladeshi       1\n",
       "Name: Nationality, Length: 118, dtype: int64"
      ]
     },
     "execution_count": 28,
     "metadata": {},
     "output_type": "execute_result"
    }
   ],
   "source": [
    "artists.Nationality.value_counts()"
   ]
  },
  {
   "cell_type": "markdown",
   "metadata": {
    "slideshow": {
     "slide_type": "slide"
    }
   },
   "source": [
    "## Inspecting text columns\n",
    "\n",
    "* Plot: `value_counts().plot('bar')`\n",
    "\n",
    "**Question:** Do you see any problems?"
   ]
  },
  {
   "cell_type": "code",
   "execution_count": 30,
   "metadata": {
    "scrolled": true,
    "slideshow": {
     "slide_type": "fragment"
    }
   },
   "outputs": [
    {
     "data": {
      "text/plain": [
       "<matplotlib.axes._subplots.AxesSubplot at 0x7f602a8f0410>"
      ]
     },
     "execution_count": 30,
     "metadata": {},
     "output_type": "execute_result"
    },
    {
     "data": {
      "image/png": "[encoded data removed]",
      "text/plain": [
       "<Figure size 1440x360 with 1 Axes>"
      ]
     },
     "metadata": {
      "needs_background": "light"
     },
     "output_type": "display_data"
    }
   ],
   "source": [
    "plt.figure(figsize=(20,5))\n",
    "artists.Nationality.value_counts().plot(kind='bar')"
   ]
  },
  {
   "cell_type": "markdown",
   "metadata": {
    "slideshow": {
     "slide_type": "slide"
    }
   },
   "source": [
    "## Be a Data Detective\n",
    "\n",
    "<img src=\"./img/nationality_unknown.png\" width=400>"
   ]
  },
  {
   "cell_type": "markdown",
   "metadata": {
    "slideshow": {
     "slide_type": "slide"
    }
   },
   "source": [
    "## Using `head` to inspect the most common labels\n",
    "\n",
    "Note that\n",
    "\n",
    "* `value_counts` are sorted in descending order\n",
    "* we can add `head` to the chain to "
   ]
  },
  {
   "cell_type": "code",
   "execution_count": 34,
   "metadata": {
    "scrolled": false,
    "slideshow": {
     "slide_type": "fragment"
    }
   },
   "outputs": [
    {
     "data": {
      "text/plain": [
       "American    5454\n",
       "German       976\n",
       "French       898\n",
       "British      872\n",
       "Italian      554\n",
       "Japanese     509\n",
       "Swiss        294\n",
       "Dutch        270\n",
       "Russian      259\n",
       "Austrian     248\n",
       "Name: Nationality, dtype: int64"
      ]
     },
     "execution_count": 34,
     "metadata": {},
     "output_type": "execute_result"
    }
   ],
   "source": [
    "artists.Nationality.value_counts().head(10)"
   ]
  },
  {
   "cell_type": "markdown",
   "metadata": {
    "slideshow": {
     "slide_type": "slide"
    }
   },
   "source": [
    "## Using `head` with `plot`\n",
    "\n",
    "Note that\n",
    "\n",
    "* `value_counts` are sorted in descending order\n",
    "* we can add `head` to the chain to "
   ]
  },
  {
   "cell_type": "code",
   "execution_count": 79,
   "metadata": {
    "scrolled": false,
    "slideshow": {
     "slide_type": "slide"
    }
   },
   "outputs": [
    {
     "data": {
      "text/plain": [
       "<matplotlib.axes._subplots.AxesSubplot at 0x11ca8ebe0>"
      ]
     },
     "execution_count": 79,
     "metadata": {},
     "output_type": "execute_result"
    },
    {
     "data": {
      "image/png": "[encoded data removed]",
      "text/plain": [
       "<Figure size 432x288 with 1 Axes>"
      ]
     },
     "metadata": {
      "needs_background": "light"
     },
     "output_type": "display_data"
    }
   ],
   "source": [
    "artists.Nationality.value_counts().head(10).plot('bar')"
   ]
  },
  {
   "cell_type": "markdown",
   "metadata": {
    "slideshow": {
     "slide_type": "slide"
    }
   },
   "source": [
    "## <font color=\"red\"> Exercise 5 </font>\n",
    "    \n",
    "**Task:** Inspect the statistics and plots for `artwork`.  Be sure to look at one variable of each type."
   ]
  },
  {
   "cell_type": "code",
   "execution_count": 80,
   "metadata": {
    "slideshow": {
     "slide_type": "slide"
    }
   },
   "outputs": [
    {
     "data": {
      "text/plain": [
       "14278"
      ]
     },
     "execution_count": 80,
     "metadata": {},
     "output_type": "execute_result"
    }
   ],
   "source": [
    "artwork.Artist.value_counts().size"
   ]
  },
  {
   "cell_type": "code",
   "execution_count": 82,
   "metadata": {
    "slideshow": {
     "slide_type": "slide"
    }
   },
   "outputs": [
    {
     "data": {
      "text/plain": [
       "Eugène Atget                5050\n",
       "Louise Bourgeois            3336\n",
       "Ludwig Mies van der Rohe    2637\n",
       "Unknown photographer        2175\n",
       "Jean Dubuffet               1436\n",
       "Lee Friedlander             1317\n",
       "Pablo Picasso               1309\n",
       "Marc Chagall                1162\n",
       "Henri Matisse               1063\n",
       "Pierre Bonnard               894\n",
       "Name: Artist, dtype: int64"
      ]
     },
     "execution_count": 82,
     "metadata": {},
     "output_type": "execute_result"
    }
   ],
   "source": [
    "artwork.Artist.value_counts().head(10)"
   ]
  },
  {
   "cell_type": "code",
   "execution_count": 81,
   "metadata": {
    "slideshow": {
     "slide_type": "slide"
    }
   },
   "outputs": [
    {
     "data": {
      "text/plain": [
       "Eugène Atget                                                                                                                 5050\n",
       "Louise Bourgeois                                                                                                             3336\n",
       "Ludwig Mies van der Rohe                                                                                                     2637\n",
       "Unknown photographer                                                                                                         2175\n",
       "Jean Dubuffet                                                                                                                1436\n",
       "Lee Friedlander                                                                                                              1317\n",
       "Pablo Picasso                                                                                                                1309\n",
       "Marc Chagall                                                                                                                 1162\n",
       "Henri Matisse                                                                                                                1063\n",
       "Pierre Bonnard                                                                                                                894\n",
       "Frank Lloyd Wright                                                                                                            848\n",
       "Lilly Reich                                                                                                                   823\n",
       "George Maciunas                                                                                                               821\n",
       "August Sander                                                                                                                 750\n",
       "Unknown Artist                                                                                                                673\n",
       "Georges Rouault                                                                                                               632\n",
       "Émile Bernard                                                                                                                 631\n",
       "Ben Kinmont                                                                                                                   598\n",
       "Aristide Maillol                                                                                                              579\n",
       "André Derain                                                                                                                  571\n",
       "Sol LeWitt                                                                                                                    562\n",
       "Raoul Dufy                                                                                                                    545\n",
       "Maurice Denis                                                                                                                 504\n",
       "Dorothea Lange                                                                                                                485\n",
       "Joan Miró                                                                                                                     464\n",
       "Unknown Designer                                                                                                              437\n",
       "Pierre Alechinsky                                                                                                             429\n",
       "Jan Dibbets                                                                                                                   426\n",
       "Jasper Johns                                                                                                                  418\n",
       "Jim Dine                                                                                                                      401\n",
       "                                                                                                                             ... \n",
       "Benjamin Edwards                                                                                                                1\n",
       "Davidson Gigliotti                                                                                                              1\n",
       "James Young                                                                                                                     1\n",
       "Speedo                                                                                                                          1\n",
       "Roy Adzak                                                                                                                       1\n",
       "Takahiko Imura                                                                                                                  1\n",
       "Gregg Bordowitz                                                                                                                 1\n",
       "Angela Bulloch                                                                                                                  1\n",
       "Steve Lacy                                                                                                                      1\n",
       "Various Artists, Jack Carver, Robert Walters, Adja Yunkers, Frederick O'Hara                                                    1\n",
       "Wiel Arets                                                                                                                      1\n",
       "Ronald J. French                                                                                                                1\n",
       "Archizoom Associati, Andrea Branzi, Gilberto Corretti, Paolo Deganello, Massimo Morozzi, Dario Bartolini, Lucia Bartolini       1\n",
       "Hai Bo                                                                                                                          1\n",
       "Adrian Ghenie                                                                                                                   1\n",
       "Olav Westphalen                                                                                                                 1\n",
       "David Cronenberg                                                                                                                1\n",
       "Jacques Villon, Fernand Léger                                                                                                   1\n",
       "New Orleans Video Access Center, Andy Kolker, Louis Alvarez                                                                     1\n",
       "Thea Djordjadze                                                                                                                 1\n",
       "Russell Limbach                                                                                                                 1\n",
       "Rikuro Okamoto                                                                                                                  1\n",
       "Jan Peacock                                                                                                                     1\n",
       "Benita Koch-Otte                                                                                                                1\n",
       "Simon Ungers, Thomas Kinslow                                                                                                    1\n",
       "Fanny Rabel                                                                                                                     1\n",
       "Giuseppe Cappelli                                                                                                               1\n",
       "James Craig Annan                                                                                                               1\n",
       "Gerhard Forster, Ugo Mulas                                                                                                      1\n",
       "Jakob Neulinger, Lucas Zallmann                                                                                                 1\n",
       "Name: Artist, Length: 14278, dtype: int64"
      ]
     },
     "execution_count": 81,
     "metadata": {},
     "output_type": "execute_result"
    }
   ],
   "source": [
    "artwork.Artist.value_counts()"
   ]
  },
  {
   "cell_type": "code",
   "execution_count": 83,
   "metadata": {
    "slideshow": {
     "slide_type": "slide"
    }
   },
   "outputs": [
    {
     "data": {
      "text/plain": [
       "<matplotlib.axes._subplots.AxesSubplot at 0x11def6b38>"
      ]
     },
     "execution_count": 83,
     "metadata": {},
     "output_type": "execute_result"
    },
    {
     "data": {
      "image/png": "[encoded data removed]",
      "text/plain": [
       "<Figure size 432x288 with 1 Axes>"
      ]
     },
     "metadata": {
      "needs_background": "light"
     },
     "output_type": "display_data"
    }
   ],
   "source": [
    "artwork.Artist.value_counts().head(10).plot('bar')"
   ]
  },
  {
   "cell_type": "code",
   "execution_count": 84,
   "metadata": {
    "scrolled": true
   },
   "outputs": [
    {
     "data": {
      "text/plain": [
       "Index(['Title', 'Artist', 'ConstituentID', 'ArtistBio', 'Nationality',\n",
       "       'BeginDate', 'EndDate', 'Gender', 'Date', 'Medium', 'Dimensions',\n",
       "       'CreditLine', 'AccessionNumber', 'Classification', 'Department',\n",
       "       'DateAcquired', 'Cataloged', 'ObjectID', 'URL', 'ThumbnailURL',\n",
       "       'Circumference_cm', 'Depth_cm', 'Diameter_cm', 'Height_cm', 'Length_cm',\n",
       "       'Weight_kg', 'Width_cm', 'Seat_Height_cm', 'Duration_sec'],\n",
       "      dtype='object')"
      ]
     },
     "execution_count": 84,
     "metadata": {},
     "output_type": "execute_result"
    }
   ],
   "source": [
    "artwork.columns"
   ]
  },
  {
   "cell_type": "code",
   "execution_count": 85,
   "metadata": {},
   "outputs": [
    {
     "data": {
      "text/plain": [
       "count    117187.000000\n",
       "mean         37.642548\n",
       "std          47.700061\n",
       "min           0.000000\n",
       "25%          18.100000\n",
       "50%          27.940056\n",
       "75%          44.300000\n",
       "max        9140.000000\n",
       "Name: Height_cm, dtype: float64"
      ]
     },
     "execution_count": 85,
     "metadata": {},
     "output_type": "execute_result"
    }
   ],
   "source": [
    "artwork.Height_cm.describe()"
   ]
  },
  {
   "cell_type": "code",
   "execution_count": 47,
   "metadata": {
    "scrolled": true
   },
   "outputs": [
    {
     "data": {
      "text/plain": [
       "<matplotlib.axes._subplots.AxesSubplot at 0x1197eafd0>"
      ]
     },
     "execution_count": 47,
     "metadata": {},
     "output_type": "execute_result"
    },
    {
     "data": {
      "image/png": "[encoded data removed]",
      "text/plain": [
       "<Figure size 432x288 with 1 Axes>"
      ]
     },
     "metadata": {
      "needs_background": "light"
     },
     "output_type": "display_data"
    }
   ],
   "source": [
    "artwork.Height_cm.plot('hist', bins=50)"
   ]
  },
  {
   "cell_type": "markdown",
   "metadata": {},
   "source": [
    "## Data Cleaning Step 4 - Dealing with a date column\n",
    "\n",
    "#### Necessary steps\n",
    "\n",
    "* Is the formating consistent?\n",
    "* Correct conversion?\n",
    "    * Two digit year?  How is this converted?\n",
    "* Make columns for various date-parts\n",
    "    * year\n",
    "    * month\n",
    "    * day\n",
    "    * etc.\n",
    "* Make plots of the date-parts and look for unusual values"
   ]
  },
  {
   "cell_type": "markdown",
   "metadata": {},
   "source": [
    "## Data Cleaning Step 5 - Inspect relationship between columns\n",
    "\n",
    "#### Necessary steps\n",
    "\n",
    "* Compute cross-tabulated summary methods\n",
    "    * **Text + Numeric** Group-by mean/median/SD/IQR\n",
    "    * **Text + Text** Group-by counts/percents\n",
    "* Plot the relationship\n",
    "    * **Text + Numeric** side-by-side box plot\n",
    "    * **Text + Text** mosiac plot\n",
    "    * **Numeric + Numeric** scatter plot\n",
    "* Look for unusual values.\n",
    "    * i.e. `0` as missing often shows up in scatterplots"
   ]
  },
  {
   "cell_type": "markdown",
   "metadata": {},
   "source": [
    "# Preview of Coming Attractions"
   ]
  },
  {
   "cell_type": "markdown",
   "metadata": {},
   "source": [
    "## R and Python can interact!"
   ]
  },
  {
   "cell_type": "code",
   "execution_count": 66,
   "metadata": {},
   "outputs": [
    {
     "name": "stdout",
     "output_type": "stream",
     "text": [
      "The rpy2.ipython extension is already loaded. To reload it, use:\n",
      "  %reload_ext rpy2.ipython\n"
     ]
    }
   ],
   "source": [
    "#!pip install rpy2 tzlocal\n",
    "import rpy2\n",
    "%load_ext rpy2.ipython"
   ]
  },
  {
   "cell_type": "code",
   "execution_count": 67,
   "metadata": {},
   "outputs": [],
   "source": [
    "import warnings\n",
    "warnings.filterwarnings('ignore')"
   ]
  },
  {
   "cell_type": "code",
   "execution_count": 68,
   "metadata": {},
   "outputs": [
    {
     "data": {
      "text/plain": [
       "[1] -1.787447  4.034125  1.743742  1.597456  4.410406\n"
      ]
     },
     "metadata": {},
     "output_type": "display_data"
    }
   ],
   "source": [
    "%%R\n",
    "rnorm(5, 2, 3)"
   ]
  },
  {
   "cell_type": "markdown",
   "metadata": {},
   "source": [
    "## We love dplyr!"
   ]
  },
  {
   "cell_type": "code",
   "execution_count": 69,
   "metadata": {},
   "outputs": [
    {
     "data": {
      "text/plain": [
       "  BeginDate     DisplayName Nationality\n",
       "1      1930  Robert Arneson    American\n",
       "2      1936  Doroteo Arnaiz     Spanish\n",
       "3      1941     Bill Arnold    American\n",
       "4      1946 Charles Arnoldi    American\n",
       "5      1941     Per Arnoldi      Danish\n",
       "6      1925   Danilo Aroldi     Italian\n"
      ]
     },
     "metadata": {},
     "output_type": "display_data"
    }
   ],
   "source": [
    "%%R -i artists -o output\n",
    "library(dplyr)\n",
    "\n",
    "(artists %>%\n",
    "select(BeginDate, DisplayName, Nationality) %>%\n",
    "filter(BeginDate > 0) %>%\n",
    "head) -> output\n",
    "output"
   ]
  },
  {
   "cell_type": "markdown",
   "metadata": {},
   "source": [
    "## Wait ... did you just run R dplyr code in a jupyter notebook?\n",
    "<img src='./img/r_magic_1.png' width=400>\n",
    "\n",
    "#### Yep"
   ]
  },
  {
   "cell_type": "markdown",
   "metadata": {},
   "source": [
    "## Wait ... did you just pass a `Pandas` dataframe to `dplyr`\n",
    "\n",
    "<img src='./img/r_magic_2.png' width=400>\n",
    "\n",
    "#### Yes ... yes I did."
   ]
  },
  {
   "cell_type": "markdown",
   "metadata": {},
   "source": [
    "## Wait ... OMG ... did you just pass the result BACK TO PYTHON!!1!one! \n",
    "\n",
    "<img src='./img/r_magic_3.png' width=400>"
   ]
  },
  {
   "cell_type": "markdown",
   "metadata": {},
   "source": [
    "#### Ummm hmmmm"
   ]
  },
  {
   "cell_type": "code",
   "execution_count": 70,
   "metadata": {},
   "outputs": [
    {
     "data": {
      "text/html": [
       "<div>\n",
       "<style scoped>\n",
       "    .dataframe tbody tr th:only-of-type {\n",
       "        vertical-align: middle;\n",
       "    }\n",
       "\n",
       "    .dataframe tbody tr th {\n",
       "        vertical-align: top;\n",
       "    }\n",
       "\n",
       "    .dataframe thead th {\n",
       "        text-align: right;\n",
       "    }\n",
       "</style>\n",
       "<table border=\"1\" class=\"dataframe\">\n",
       "  <thead>\n",
       "    <tr style=\"text-align: right;\">\n",
       "      <th></th>\n",
       "      <th>BeginDate</th>\n",
       "      <th>DisplayName</th>\n",
       "      <th>Nationality</th>\n",
       "    </tr>\n",
       "  </thead>\n",
       "  <tbody>\n",
       "    <tr>\n",
       "      <th>0</th>\n",
       "      <td>1930</td>\n",
       "      <td>Robert Arneson</td>\n",
       "      <td>American</td>\n",
       "    </tr>\n",
       "    <tr>\n",
       "      <th>1</th>\n",
       "      <td>1936</td>\n",
       "      <td>Doroteo Arnaiz</td>\n",
       "      <td>Spanish</td>\n",
       "    </tr>\n",
       "    <tr>\n",
       "      <th>2</th>\n",
       "      <td>1941</td>\n",
       "      <td>Bill Arnold</td>\n",
       "      <td>American</td>\n",
       "    </tr>\n",
       "    <tr>\n",
       "      <th>3</th>\n",
       "      <td>1946</td>\n",
       "      <td>Charles Arnoldi</td>\n",
       "      <td>American</td>\n",
       "    </tr>\n",
       "    <tr>\n",
       "      <th>4</th>\n",
       "      <td>1941</td>\n",
       "      <td>Per Arnoldi</td>\n",
       "      <td>Danish</td>\n",
       "    </tr>\n",
       "    <tr>\n",
       "      <th>5</th>\n",
       "      <td>1925</td>\n",
       "      <td>Danilo Aroldi</td>\n",
       "      <td>Italian</td>\n",
       "    </tr>\n",
       "  </tbody>\n",
       "</table>\n",
       "</div>"
      ],
      "text/plain": [
       "   BeginDate      DisplayName Nationality\n",
       "0       1930   Robert Arneson    American\n",
       "1       1936   Doroteo Arnaiz     Spanish\n",
       "2       1941      Bill Arnold    American\n",
       "3       1946  Charles Arnoldi    American\n",
       "4       1941      Per Arnoldi      Danish\n",
       "5       1925    Danilo Aroldi     Italian"
      ]
     },
     "execution_count": 70,
     "metadata": {},
     "output_type": "execute_result"
    }
   ],
   "source": [
    "output"
   ]
  },
  {
   "cell_type": "markdown",
   "metadata": {},
   "source": [
    "## HOLD ON! ... isn't that CHEATING!\n",
    "\n",
    "#### ... maybe your right ..."
   ]
  }
 ],
 "metadata": {
  "kernelspec": {
   "display_name": "Python 3",
   "language": "python",
   "name": "python3"
  },
  "language_info": {
   "codemirror_mode": {
    "name": "ipython",
    "version": 3
   },
   "file_extension": ".py",
   "mimetype": "text/x-python",
   "name": "python",
   "nbconvert_exporter": "python",
   "pygments_lexer": "ipython3",
   "version": "3.7.6"
  },
  "varInspector": {
   "cols": {
    "lenName": 16,
    "lenType": 16,
    "lenVar": 40
   },
   "kernels_config": {
    "python": {
     "delete_cmd_postfix": "",
     "delete_cmd_prefix": "del ",
     "library": "var_list.py",
     "varRefreshCmd": "print(var_dic_list())"
    },
    "r": {
     "delete_cmd_postfix": ") ",
     "delete_cmd_prefix": "rm(",
     "library": "var_list.r",
     "varRefreshCmd": "cat(var_dic_list()) "
    }
   },
   "types_to_exclude": [
    "module",
    "function",
    "builtin_function_or_method",
    "instance",
    "_Feature"
   ],
   "window_display": false
  }
 },
 "nbformat": 4,
 "nbformat_minor": 2
}
